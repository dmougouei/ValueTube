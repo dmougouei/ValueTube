{
 "cells": [
  {
   "cell_type": "code",
   "execution_count": 1,
   "metadata": {},
   "outputs": [
    {
     "name": "stderr",
     "output_type": "stream",
     "text": [
      "[nltk_data] Downloading package stopwords to\n",
      "[nltk_data]     C:\\Users\\liamw\\AppData\\Roaming\\nltk_data...\n",
      "[nltk_data]   Package stopwords is already up-to-date!\n"
     ]
    }
   ],
   "source": [
    "import re\n",
    "import sqlite3\n",
    "import pandas as pd\n",
    "import numpy as np\n",
    "import tensorflow as tf\n",
    "from sklearn.feature_extraction.text import TfidfVectorizer\n",
    "from sklearn.model_selection import train_test_split\n",
    "import nltk\n",
    "nltk.download('stopwords')\n",
    "from nltk.corpus import stopwords"
   ]
  },
  {
   "cell_type": "markdown",
   "metadata": {},
   "source": [
    "# Data Cleaning"
   ]
  },
  {
   "cell_type": "code",
   "execution_count": 2,
   "metadata": {},
   "outputs": [],
   "source": [
    "# Load the data from the comments database, returns the tuple (comments, categories)\n",
    "def load_data():\n",
    "    # read in the comments for each video from database\n",
    "    conn1 = sqlite3.connect(\"youtubeComments.db\")\n",
    "    c1 = conn1.cursor()\n",
    "    c1.execute(\"\"\"select c.videoID, textOriginal,\n",
    "        l.SelfDirection, l.Stimulation, l.Hedonism,\n",
    "        l.Achievement, l.Power, l.Security, l.Tradition,\n",
    "        l.Conformity, l.Benevolence, l.Universalism\n",
    "        from commentsThreads c join labels l on c.videoID = l.videoID\n",
    "        order by c.videoID\"\"\")\n",
    "    comments = c1.fetchall()\n",
    "\n",
    "    # using the fact that comments are ordered by videoID perform a manual group by\n",
    "    # so that videos[i] contains a giant string of all comments on the video\n",
    "    video_id = comments[0][0]\n",
    "    video_comments = [\"\"]\n",
    "    labels = [comments[0][2:]]\n",
    "    for comment in comments:\n",
    "        if video_id != comment[0]:\n",
    "            video_id = comment[0]\n",
    "            video_comments.append(\"\")\n",
    "            labels.append(comment[2:])\n",
    "        video_comments[-1] += comment[1] + \" \"\n",
    "\n",
    "    return video_comments, labels"
   ]
  },
  {
   "cell_type": "code",
   "execution_count": 3,
   "metadata": {},
   "outputs": [],
   "source": [
    "# a function that performs preprocessing on the text, removing symbols and stopwords\n",
    "punctuation_re = re.compile('[/(){}\\[\\]\\|@,;]')\n",
    "non_alphanumeric_re = re.compile('[^0-9a-z #+_]')\n",
    "stopwords = set(stopwords.words('english'))\n",
    "def text_prepare(text):\n",
    "    text = text.lower()\n",
    "    text = re.sub(punctuation_re, \" \", text)\n",
    "    text = re.sub(non_alphanumeric_re, \"\", text)\n",
    "\n",
    "    # delete stopwords from text\n",
    "    for word in stopwords:\n",
    "      text = re.sub('(^|\\s+)' + word + '($|\\s+)', \" \", text)\n",
    "\n",
    "    # clean up whitespace\n",
    "    text = text.strip()\n",
    "    text = re.sub('\\s+', ' ', text) # transform all multi spaces into one space\n",
    "    return text"
   ]
  },
  {
   "cell_type": "code",
   "execution_count": 4,
   "metadata": {},
   "outputs": [],
   "source": [
    "# convert a scikitlearn sparse matrix to a tensorflow sparse tensor\n",
    "def convert_to_sparse_tensor(X):\n",
    "    coo = X.tocoo()\n",
    "    indices = np.mat([coo.row, coo.col]).transpose()\n",
    "    return tf.sparse.reorder(tf.sparse.SparseTensor(indices, coo.data, coo.shape))"
   ]
  },
  {
   "cell_type": "code",
   "execution_count": 5,
   "metadata": {},
   "outputs": [],
   "source": [
    "# create bag of words dataset using the tfidf method\n",
    "def create_dataset():\n",
    "    # load data and perform pre-processing\n",
    "    X, y = load_data()\n",
    "    comments = list(map(text_prepare, X))\n",
    "    \n",
    "    # split into train and test data\n",
    "    X_train, X_test, y_train, y_test = train_test_split(X, y, test_size = 0.2)\n",
    "    \n",
    "    # create and train tfidf vectorizer\n",
    "    tfidf_vectorizer = TfidfVectorizer(min_df = 2/len(comments),\n",
    "                                       max_df = 0.9,\n",
    "                                       ngram_range = (1, 2),\n",
    "                                       token_pattern = '(\\S+)')\n",
    "    tfidf_vectorizer.fit(X_train) # important to only fit on X_train to avoid data leakage\n",
    "\n",
    "    # apply the vectorizer and then transform the sparse matrix returned to a tensorflow sparse tensor\n",
    "    # so that tensorflow models can be used\n",
    "    X_train = convert_to_sparse_tensor(tfidf_vectorizer.transform(X_train))\n",
    "    X_test = convert_to_sparse_tensor(tfidf_vectorizer.transform(X_test))\n",
    "    return X_train, X_test, y_train, y_test, tfidf_vectorizer.vocabulary_"
   ]
  },
  {
   "cell_type": "code",
   "execution_count": 6,
   "metadata": {},
   "outputs": [],
   "source": [
    "X_train, X_test, y_train, y_test, vocabulary = create_dataset()\n",
    "# convert labels to be np array to work with tensorflow\n",
    "y_train = np.asarray(y_train) \n",
    "y_test = np.asarray(y_test)"
   ]
  },
  {
   "cell_type": "code",
   "execution_count": 16,
   "metadata": {},
   "outputs": [
    {
     "data": {
      "text/plain": [
       "TensorShape([48, 67678])"
      ]
     },
     "execution_count": 16,
     "metadata": {},
     "output_type": "execute_result"
    }
   ],
   "source": [
    "X_train.shape"
   ]
  },
  {
   "cell_type": "code",
   "execution_count": 7,
   "metadata": {},
   "outputs": [],
   "source": [
    "X, y = load_data()"
   ]
  },
  {
   "cell_type": "code",
   "execution_count": 9,
   "metadata": {},
   "outputs": [
    {
     "data": {
      "text/plain": [
       "<tensorflow.python.framework.sparse_tensor.SparseTensor at 0x19c62055e08>"
      ]
     },
     "execution_count": 9,
     "metadata": {},
     "output_type": "execute_result"
    }
   ],
   "source": [
    "X"
   ]
  },
  {
   "cell_type": "markdown",
   "metadata": {},
   "source": [
    "# Model Creation"
   ]
  },
  {
   "cell_type": "code",
   "execution_count": 10,
   "metadata": {},
   "outputs": [],
   "source": [
    "import matplotlib.pyplot as plt\n",
    "from tensorflow.keras.layers import Dense, Input\n",
    "from tensorflow.keras import Model\n",
    "from sklearn.naive_bayes import GaussianNB\n",
    "from sklearn.metrics import accuracy_score, recall_score, precision_score, f1_score"
   ]
  },
  {
   "cell_type": "code",
   "execution_count": 11,
   "metadata": {},
   "outputs": [],
   "source": [
    "# create a function to plot performance over a models training process\n",
    "def plot_training(history, y_min, y_max, metric=\"categorical_accuracy\", title=\"model training\"):\n",
    "    plt.plot(history.history[metric], label=\"training\")\n",
    "    plt.plot(history.history[\"val_\" + metric], label=\"validation\")\n",
    "    plt.xticks(range(0, len(history.history[metric]) + 5, 5))\n",
    "    plt.title(title)\n",
    "    plt.xlabel(\"Epoch\")\n",
    "    plt.ylabel(metric)\n",
    "    plt.legend()\n",
    "    plt.gca().set_ylim([y_min, y_max])\n",
    "    plt.show()"
   ]
  },
  {
   "cell_type": "markdown",
   "metadata": {},
   "source": [
    "### Simple bag of words model"
   ]
  },
  {
   "cell_type": "code",
   "execution_count": 12,
   "metadata": {},
   "outputs": [
    {
     "name": "stdout",
     "output_type": "stream",
     "text": [
      "Model: \"model\"\n",
      "_________________________________________________________________\n",
      "Layer (type)                 Output Shape              Param #   \n",
      "=================================================================\n",
      "input_1 (InputLayer)         [(None, 67678)]           0         \n",
      "_________________________________________________________________\n",
      "dense (Dense)                (None, 100)               6767900   \n",
      "_________________________________________________________________\n",
      "dense_1 (Dense)              (None, 10)                1010      \n",
      "=================================================================\n",
      "Total params: 6,768,910\n",
      "Trainable params: 6,768,910\n",
      "Non-trainable params: 0\n",
      "_________________________________________________________________\n"
     ]
    }
   ],
   "source": [
    "# build model\n",
    "X = Input(shape=(X_train.shape[1], ))\n",
    "dense1 = Dense(100, activation = \"relu\")(X)\n",
    "dense2 = Dense(y_train.shape[1], activation = \"sigmoid\")(dense1) # use sigmoid activation instead of softmax because more than one class can be present\n",
    "nn = Model(inputs = X, outputs = dense2)\n",
    "nn.summary()"
   ]
  },
  {
   "cell_type": "code",
   "execution_count": 13,
   "metadata": {},
   "outputs": [],
   "source": [
    "# train model\n",
    "nn.compile(optimizer = \"adam\", loss = \"binary_crossentropy\", metrics = ['BinaryAccuracy']) # binary cross entropy as again more than one class possible\n",
    "history = nn.fit(X_train, y_train,\n",
    "                 batch_size = 32, epochs = 100,\n",
    "                 validation_data = (X_test, y_test),\n",
    "                 verbose=0)"
   ]
  },
  {
   "cell_type": "code",
   "execution_count": 14,
   "metadata": {},
   "outputs": [
    {
     "data": {
      "image/png": "[encoded data removed]",
      "text/plain": [
       "<Figure size 432x288 with 1 Axes>"
      ]
     },
     "metadata": {
      "needs_background": "light"
     },
     "output_type": "display_data"
    }
   ],
   "source": [
    "plot_training(history, 0, 1, metric=\"binary_accuracy\")"
   ]
  },
  {
   "cell_type": "code",
   "execution_count": 17,
   "metadata": {},
   "outputs": [
    {
     "name": "stdout",
     "output_type": "stream",
     "text": [
      "Class 0   Train F-Score: 1.0    Test F-Score: 0.72\n",
      "Class 1   Train F-Score: 1.0    Test F-Score: 0.0\n",
      "Class 2   Train F-Score: 1.0    Test F-Score: 0.3\n",
      "Class 3   Train F-Score: 1.0    Test F-Score: 0.36842105263157887\n",
      "Class 4   Train F-Score: 1.0    Test F-Score: 0.32\n",
      "Class 5   Train F-Score: 1.0    Test F-Score: 0.3\n",
      "Class 6   Train F-Score: 1.0    Test F-Score: 0.3636363636363636\n",
      "Class 7   Train F-Score: 1.0    Test F-Score: 0.0\n",
      "Class 8   Train F-Score: 1.0    Test F-Score: 0.5000000000000001\n",
      "Class 9   Train F-Score: 1.0    Test F-Score: 0.0\n",
      "Micro averaged F score: 0.4149377593360996\n"
     ]
    }
   ],
   "source": [
    "# measure performance\n",
    "cutoff = 0.2\n",
    "train_preds = (nn.predict(X_train) > cutoff).astype(int)\n",
    "val_preds = (nn.predict(X_test) > cutoff).astype(int)\n",
    "\n",
    "# get the f score of each individual class\n",
    "f_scores = []\n",
    "for i in range(y_train.shape[1]):\n",
    "    f_score = f1_score(y_test[:, i], val_preds[:, i])\n",
    "    f_scores.append(f_score)\n",
    "    print(\"Class {}   Train F-Score: {}    Test F-Score: {}\".format(i, \n",
    "        f1_score(y_train[:, i], train_preds[:, i]), f_score))\n",
    "print(\"Micro averaged F score:\",f1_score(y_test, val_preds, average=\"micro\"))"
   ]
  },
  {
   "cell_type": "code",
   "execution_count": 18,
   "metadata": {},
   "outputs": [
    {
     "name": "stdout",
     "output_type": "stream",
     "text": [
      "[1 0 0 0 0 0 0 0 0 0] [1 0 0 1 0 0 0 0 0 0]\n",
      "[0 0 0 0 1 1 1 1 0 1] [1 0 0 1 0 0 0 0 0 0]\n",
      "[1 0 0 1 0 0 0 0 0 0] [1 0 0 1 0 0 0 0 0 0]\n",
      "[1 1 1 0 0 0 0 0 0 0] [1 0 0 1 0 0 0 0 0 0]\n",
      "[0 0 0 1 1 0 0 0 0 0] [1 0 0 0 0 0 0 0 0 0]\n",
      "[1 1 1 0 0 0 0 0 0 0] [1 0 0 1 0 0 0 0 0 0]\n",
      "[1 0 0 1 0 0 0 0 1 0] [1 0 0 1 0 0 0 0 1 0]\n",
      "[1 1 1 0 0 1 0 1 1 0] [1 0 1 0 0 0 0 0 0 0]\n",
      "[0 0 1 0 0 0 0 0 1 0] [1 1 1 0 0 0 0 0 1 0]\n",
      "[1 1 0 0 0 0 0 0 0 0] [1 0 0 1 0 0 0 0 0 0]\n",
      "[1 0 0 0 0 1 0 0 0 1] [1 0 0 0 1 0 0 0 0 0]\n",
      "[0 0 0 1 1 1 0 1 0 1] [1 0 0 0 1 1 0 0 0 0]\n",
      "[0 0 0 0 0 0 0 0 0 0] [1 0 0 1 1 0 0 0 0 0]\n",
      "[1 1 1 0 0 0 0 0 1 0] [1 0 0 0 0 0 0 0 0 0]\n",
      "[1 0 0 1 0 1 0 0 0 0] [1 0 0 1 0 0 0 0 0 0]\n",
      "[0 0 0 1 1 1 0 1 0 0] [1 0 0 0 1 0 0 0 0 0]\n",
      "[1 0 0 1 0 1 0 1 0 0] [1 0 0 0 0 0 0 0 0 0]\n",
      "[1 1 1 1 1 0 0 0 1 1] [1 0 0 0 0 0 0 0 1 0]\n",
      "[0 0 1 0 0 0 0 0 0 0] [1 1 0 0 0 0 0 0 0 0]\n",
      "[1 0 0 0 0 1 0 0 0 0] [1 0 0 0 0 0 0 0 0 0]\n",
      "[1 0 0 0 0 0 1 0 0 0] [1 0 0 1 1 0 1 0 0 0]\n",
      "[1 0 0 1 0 0 0 0 0 0] [1 0 0 1 0 0 0 0 0 0]\n",
      "[0 1 0 0 0 0 0 0 0 1] [1 0 1 0 0 0 0 0 0 0]\n",
      "[0 0 0 0 1 0 1 0 0 0] [1 0 0 0 0 0 0 0 0 0]\n",
      "[0 0 1 1 0 1 1 0 1 0] [1 0 0 0 0 0 0 0 0 0]\n",
      "[1 0 0 0 0 0 1 0 0 1] [1 0 0 1 0 0 0 0 0 0]\n",
      "[0 0 1 1 1 0 0 0 1 0] [1 0 0 0 0 0 0 0 0 0]\n",
      "[0 1 0 0 0 0 0 1 0 0] [1 0 0 0 0 0 0 0 0 0]\n",
      "[0 0 1 0 0 0 0 0 0 0] [1 0 0 0 0 0 0 0 0 0]\n",
      "[0 0 0 1 1 0 0 0 0 0] [1 0 0 0 0 0 0 0 0 0]\n",
      "[0 1 1 0 0 0 0 0 0 1] [1 0 0 1 0 0 0 0 0 0]\n",
      "[1 0 0 1 1 1 1 0 1 0] [1 0 0 0 0 0 0 0 0 0]\n",
      "[1 0 0 1 0 0 0 0 0 0] [1 0 0 1 0 0 0 0 0 0]\n",
      "[1 1 1 1 1 0 0 0 1 1] [1 0 1 0 0 0 0 0 1 0]\n",
      "[1 0 0 0 0 1 0 0 0 0] [1 1 1 0 0 0 0 0 1 0]\n",
      "[1 0 1 0 1 0 0 0 0 0] [1 1 0 0 0 0 0 0 0 0]\n",
      "[1 0 0 0 1 0 1 0 0 0] [1 0 0 1 0 0 1 0 0 0]\n",
      "[0 0 0 0 1 1 0 0 0 0] [1 0 0 0 1 1 0 0 0 0]\n",
      "[0 0 0 0 1 1 0 1 0 0] [1 0 0 0 0 0 0 0 0 0]\n",
      "[0 0 0 0 0 0 0 0 0 0] [1 1 1 0 0 0 0 0 0 0]\n",
      "[1 0 0 1 0 1 0 0 0 0] [1 0 0 1 0 0 0 0 0 0]\n",
      "[0 0 1 1 1 0 0 0 0 0] [1 0 0 0 0 0 0 0 0 0]\n",
      "[1 1 0 1 1 1 1 0 0 0] [1 0 0 0 0 0 0 0 0 0]\n",
      "[1 1 0 1 0 0 0 0 1 1] [1 0 0 1 0 0 0 0 0 0]\n",
      "[1 0 0 0 0 0 1 0 0 0] [1 0 0 1 0 0 0 0 0 0]\n",
      "[0 1 0 1 1 0 0 0 0 0] [1 0 0 0 0 0 0 0 0 0]\n",
      "[1 0 0 0 0 1 0 0 0 1] [1 0 0 0 0 0 0 0 0 0]\n",
      "[0 0 0 0 1 1 0 1 1 0] [1 0 0 0 1 1 0 0 0 0]\n"
     ]
    }
   ],
   "source": [
    "for i in range(y_test.shape[0]):\n",
    "    print(y_test[i], val_preds[i])"
   ]
  },
  {
   "cell_type": "code",
   "execution_count": 19,
   "metadata": {},
   "outputs": [],
   "source": [
    "# See metrics for a random model\n",
    "# calculate p of each class\n",
    "probs = np.sum(y_train, axis=0)/y_train.shape[0]\n",
    "\n",
    "# predict each class with the corresponding probability\n",
    "def predict_random():\n",
    "    pred = (np.random.rand(1, y_train.shape[1]) < probs).astype(int)\n",
    "    return pred[0]"
   ]
  },
  {
   "cell_type": "code",
   "execution_count": 20,
   "metadata": {},
   "outputs": [
    {
     "data": {
      "text/plain": [
       "0.32658080783005766"
      ]
     },
     "execution_count": 20,
     "metadata": {},
     "output_type": "execute_result"
    }
   ],
   "source": [
    "# calculate the average random score\n",
    "scores = []\n",
    "for i in range(100):\n",
    "    preds = [predict_random() for i in range(y_test.shape[0])]\n",
    "    val_preds = np.array(preds)\n",
    "    f_score = f1_score(y_test, val_preds, average=\"micro\")\n",
    "    scores.append(f_score)\n",
    "np.mean(scores)"
   ]
  },
  {
   "cell_type": "code",
   "execution_count": 21,
   "metadata": {},
   "outputs": [
    {
     "data": {
      "text/plain": [
       "Text(0.5, 1.0, 'Micro Averaged F-Score v.s. Cutoff')"
      ]
     },
     "execution_count": 21,
     "metadata": {},
     "output_type": "execute_result"
    },
    {
     "data": {
      "image/png": "[encoded data removed]",
      "text/plain": [
       "<Figure size 432x288 with 1 Axes>"
      ]
     },
     "metadata": {
      "needs_background": "light"
     },
     "output_type": "display_data"
    }
   ],
   "source": [
    "# find the best cutoff and plot stats\n",
    "probs = nn.predict(X_test)\n",
    "search_range = np.arange(0, 0.5, 0.001)\n",
    "f_scores = []\n",
    "precision = []\n",
    "recall = []\n",
    "for cutoff in search_range:\n",
    "    val_preds = (probs > cutoff).astype(int)\n",
    "    f_scores.append(f1_score(y_test, val_preds, average=\"micro\"))\n",
    "    precision.append(precision_score(y_test, val_preds, average=\"micro\"))\n",
    "    recall.append(recall_score(y_test, val_preds, average=\"micro\"))\n",
    "plt.plot(search_range, f_scores, label=\"F-score\")\n",
    "plt.plot(search_range, precision, label=\"Precision\")\n",
    "plt.plot(search_range, recall, label=\"Recall\")\n",
    "plt.plot(search_range, [f_score]*search_range.shape[0], label=\"Random F-Score\") \n",
    "plt.legend()\n",
    "plt.title(\"Micro Averaged F-Score v.s. Cutoff\")"
   ]
  },
  {
   "cell_type": "markdown",
   "metadata": {},
   "source": [
    "### LSTM model"
   ]
  },
  {
   "cell_type": "code",
   "execution_count": 6,
   "metadata": {},
   "outputs": [],
   "source": [
    "import gensim\n",
    "from tensorflow.keras.preprocessing.text import Tokenizer\n",
    "from tensorflow.keras.preprocessing.sequence import pad_sequences\n",
    "from tensorflow.keras.layers import Bidirectional, LSTM, Embedding"
   ]
  },
  {
   "cell_type": "markdown",
   "metadata": {},
   "source": [
    "First we load and clean the data"
   ]
  },
  {
   "cell_type": "code",
   "execution_count": 43,
   "metadata": {},
   "outputs": [],
   "source": [
    "X, y = load_data()\n",
    "X = list(map(text_prepare, X))\n",
    "y = pd.get_dummies(y) # convert y to one hot vectors"
   ]
  },
  {
   "cell_type": "markdown",
   "metadata": {},
   "source": [
    "Now transform the words into the pretrained word2vec embeddings obtained from here: https://wikipedia2vec.github.io/wikipedia2vec/pretrained/"
   ]
  },
  {
   "cell_type": "code",
   "execution_count": 9,
   "metadata": {},
   "outputs": [],
   "source": [
    "# load embeddings, takes a significant amount of time\n",
    "embedding_file = \"enwiki_20180420_win10_100d.txt.bz2\"\n",
    "embedding_size = 100\n",
    "word_embedder = gensim.models.KeyedVectors.load_word2vec_format(embedding_file, binary=False)"
   ]
  },
  {
   "cell_type": "code",
   "execution_count": 10,
   "metadata": {},
   "outputs": [],
   "source": [
    "# transform dataset, doesn't take as long but will eat a few gigs of ram\n",
    "dummy = np.zeros(embedding_size)\n",
    "X_embedded = []\n",
    "for video_comments in X:\n",
    "    X_embedded.append([])\n",
    "    for word in video_comments.split(\" \"):\n",
    "        try:\n",
    "            embedding = word_embedder.get_vector(word.lower())\n",
    "        except KeyError: # not in the embeddings\n",
    "            embedding = dummy\n",
    "        X_embedded[-1].append(embedding)"
   ]
  },
  {
   "cell_type": "code",
   "execution_count": 11,
   "metadata": {},
   "outputs": [
    {
     "name": "stdout",
     "output_type": "stream",
     "text": [
      "890 1478\n",
      "890 1478\n"
     ]
    },
    {
     "data": {
      "text/plain": [
       "array([-0.564 , -0.5716,  0.1391,  0.1087,  0.3961, -0.4121, -0.4644,\n",
       "       -0.3132, -0.1375,  0.2368, -0.2153, -0.4151, -0.1271,  0.5038,\n",
       "       -0.2162,  0.032 ,  0.5347, -0.4009, -0.3393, -0.3071, -0.2252,\n",
       "       -0.221 ,  0.1205,  0.2257, -0.1878,  0.1841,  0.4495, -0.2308,\n",
       "        0.0757,  0.0752,  0.5288,  0.4406,  0.2842,  0.0872,  0.1878,\n",
       "       -0.0744,  0.2577,  0.2439,  0.2827, -0.0337, -0.1579, -0.362 ,\n",
       "       -0.3085,  0.0963,  0.2978,  0.0941,  0.3881, -0.2976, -0.1492,\n",
       "        0.0589, -0.2725,  0.1134, -0.1209, -0.3495, -0.3261,  1.1247,\n",
       "        0.968 , -0.1227, -0.4351, -0.3146,  0.3193, -0.3559, -0.2407,\n",
       "       -0.6482, -0.3129, -0.7203,  0.0791,  0.2891,  0.146 , -0.2042,\n",
       "       -0.6314, -0.4798, -0.3662, -0.2042, -0.3436,  0.3492,  0.4094,\n",
       "       -0.0641,  0.0525,  0.0728, -0.4157,  0.4037, -0.5495, -0.053 ,\n",
       "        0.1594, -0.1299,  0.5141, -0.1742,  0.0404,  0.0076,  0.119 ,\n",
       "        0.3242, -0.7302,  0.7806, -0.5962, -0.3785, -0.2235, -0.3008,\n",
       "        0.2354,  0.7224], dtype=float32)"
      ]
     },
     "execution_count": 11,
     "metadata": {},
     "output_type": "execute_result"
    }
   ],
   "source": [
    "print(len(X_embedded), len(X_embedded[2]))\n",
    "print(len(X), len(X[2].split(\" \")))\n",
    "X_embedded[0][4000]"
   ]
  },
  {
   "cell_type": "markdown",
   "metadata": {},
   "source": [
    "having the same sequence length is necessary for batching, lets examine the number of words in the comment section of each video"
   ]
  },
  {
   "cell_type": "markdown",
   "metadata": {},
   "source": [
    "Now we need to create our dataset, 3000 words is too much for an LSTM so I'll first try 400"
   ]
  },
  {
   "cell_type": "markdown",
   "metadata": {},
   "source": [
    "### Create Dataset"
   ]
  },
  {
   "cell_type": "markdown",
   "metadata": {},
   "source": [
    "Most of the dataset has already been created, we just need to cut off each sample to sample_length"
   ]
  },
  {
   "cell_type": "code",
   "execution_count": 110,
   "metadata": {},
   "outputs": [],
   "source": [
    "# a function that creates new samples by splitting up the comment sections with more than sample_length words\n",
    "sample_length = 400\n",
    "def augment_data(X, y):\n",
    "    X_aug = []\n",
    "    y_aug = []\n",
    "    for i in range(len(X)):\n",
    "        for j in range(0, len(X[i]), sample_length):\n",
    "            X_aug.append(X[i][j:min(j + sample_length, len(X[i]))]) # append a slice of sample_length words to X_aug\n",
    "            y_aug.append(y.iloc[i])\n",
    "            # pad comments with 0 vectors so each sample has length of sample_length\n",
    "            length = len(X_aug[-1])\n",
    "            if length < sample_length:\n",
    "                X_aug[-1] = np.append(np.array(X_aug[-1]), np.zeros((sample_length - length, embedding_size)), axis = 0)\n",
    "    return np.array(X_aug), np.array(y_aug)"
   ]
  },
  {
   "cell_type": "code",
   "execution_count": 114,
   "metadata": {},
   "outputs": [],
   "source": [
    "# need to split data before augmenting to avoid data leakage\n",
    "X_train, X_test, y_train, y_test = train_test_split(X_embedded, y, test_size = 0.2)\n",
    "X_train, y_train = augment_data(X_train, y_train)\n",
    "X_test, y_test = augment_data(X_test, y_test)"
   ]
  },
  {
   "cell_type": "code",
   "execution_count": 115,
   "metadata": {},
   "outputs": [
    {
     "data": {
      "text/plain": [
       "((5897, 400, 100), (5897, 10))"
      ]
     },
     "execution_count": 115,
     "metadata": {},
     "output_type": "execute_result"
    }
   ],
   "source": [
    "X_train.shape, y_train.shape"
   ]
  },
  {
   "cell_type": "markdown",
   "metadata": {},
   "source": [
    "Create a Bidirectional LSTM which should handle the longer sequences better"
   ]
  },
  {
   "cell_type": "code",
   "execution_count": 118,
   "metadata": {},
   "outputs": [],
   "source": [
    "model = tf.keras.Sequential()\n",
    "model.add(Bidirectional(LSTM(100, activation='tanh', dropout=0.2, recurrent_dropout=0.2, input_shape = (None, sample_length, embedding_size))))\n",
    "model.add(Dense(y_train.shape[1], activation='softmax'))\n",
    "model.compile(optimizer = \"adam\", loss = \"categorical_crossentropy\", metrics = ['CategoricalAccuracy'])"
   ]
  },
  {
   "cell_type": "code",
   "execution_count": 119,
   "metadata": {},
   "outputs": [
    {
     "name": "stdout",
     "output_type": "stream",
     "text": [
      "Epoch 1/50\n",
      "185/185 [==============================] - 842s 5s/step - loss: 2.0404 - categorical_accuracy: 0.2839 - val_loss: 2.0943 - val_categorical_accuracy: 0.2769\n",
      "Epoch 2/50\n",
      "185/185 [==============================] - 911s 5s/step - loss: 1.8889 - categorical_accuracy: 0.3519 - val_loss: 2.0387 - val_categorical_accuracy: 0.3057\n",
      "Epoch 3/50\n",
      "185/185 [==============================] - 875s 5s/step - loss: 1.9414 - categorical_accuracy: 0.3263 - val_loss: 1.8398 - val_categorical_accuracy: 0.3742\n",
      "Epoch 4/50\n",
      "185/185 [==============================] - 837s 5s/step - loss: 2.1662 - categorical_accuracy: 0.2535 - val_loss: 2.2956 - val_categorical_accuracy: 0.1624\n",
      "Epoch 5/50\n",
      "185/185 [==============================] - 845s 5s/step - loss: 2.1397 - categorical_accuracy: 0.2388 - val_loss: 2.1348 - val_categorical_accuracy: 0.2481\n",
      "Epoch 6/50\n",
      "185/185 [==============================] - 859s 5s/step - loss: 2.0180 - categorical_accuracy: 0.2959 - val_loss: 1.7973 - val_categorical_accuracy: 0.3674\n",
      "Epoch 7/50\n",
      "185/185 [==============================] - 855s 5s/step - loss: 1.7761 - categorical_accuracy: 0.3810 - val_loss: 1.6905 - val_categorical_accuracy: 0.4448\n",
      "Epoch 8/50\n",
      "185/185 [==============================] - 862s 5s/step - loss: 1.7723 - categorical_accuracy: 0.3860 - val_loss: 1.7529 - val_categorical_accuracy: 0.3852\n",
      "Epoch 9/50\n",
      "185/185 [==============================] - 863s 5s/step - loss: 1.5089 - categorical_accuracy: 0.4806 - val_loss: 1.5405 - val_categorical_accuracy: 0.4880\n",
      "Epoch 10/50\n",
      "185/185 [==============================] - 866s 5s/step - loss: 1.3655 - categorical_accuracy: 0.5360 - val_loss: 1.4068 - val_categorical_accuracy: 0.5154\n",
      "Epoch 11/50\n",
      "185/185 [==============================] - 869s 5s/step - loss: 1.2515 - categorical_accuracy: 0.5728 - val_loss: 1.3397 - val_categorical_accuracy: 0.5538\n",
      "Epoch 12/50\n",
      "185/185 [==============================] - 868s 5s/step - loss: 1.2794 - categorical_accuracy: 0.5594 - val_loss: 1.3165 - val_categorical_accuracy: 0.5517\n",
      "Epoch 13/50\n",
      "185/185 [==============================] - 870s 5s/step - loss: 1.1781 - categorical_accuracy: 0.5974 - val_loss: 1.3197 - val_categorical_accuracy: 0.5751\n",
      "Epoch 14/50\n",
      "185/185 [==============================] - 872s 5s/step - loss: 1.0892 - categorical_accuracy: 0.6271 - val_loss: 1.1688 - val_categorical_accuracy: 0.6025\n",
      "Epoch 15/50\n",
      "185/185 [==============================] - 922s 5s/step - loss: 1.0402 - categorical_accuracy: 0.6393 - val_loss: 1.2028 - val_categorical_accuracy: 0.6093\n",
      "Epoch 16/50\n",
      "185/185 [==============================] - 887s 5s/step - loss: 0.9884 - categorical_accuracy: 0.6600 - val_loss: 1.1344 - val_categorical_accuracy: 0.6230\n",
      "Epoch 17/50\n",
      "185/185 [==============================] - 880s 5s/step - loss: 0.9500 - categorical_accuracy: 0.6707 - val_loss: 1.1679 - val_categorical_accuracy: 0.6025\n",
      "Epoch 18/50\n",
      "185/185 [==============================] - 883s 5s/step - loss: 0.9179 - categorical_accuracy: 0.6795 - val_loss: 1.1140 - val_categorical_accuracy: 0.6244\n",
      "Epoch 19/50\n",
      "185/185 [==============================] - 884s 5s/step - loss: 0.8893 - categorical_accuracy: 0.6871 - val_loss: 1.1999 - val_categorical_accuracy: 0.6100\n",
      "Epoch 20/50\n",
      "185/185 [==============================] - 909s 5s/step - loss: 0.8572 - categorical_accuracy: 0.6993 - val_loss: 1.1141 - val_categorical_accuracy: 0.6285\n",
      "Epoch 21/50\n",
      "185/185 [==============================] - 889s 5s/step - loss: 0.8265 - categorical_accuracy: 0.7126 - val_loss: 1.1770 - val_categorical_accuracy: 0.6155\n",
      "Epoch 22/50\n",
      "185/185 [==============================] - 893s 5s/step - loss: 0.7969 - categorical_accuracy: 0.7231 - val_loss: 1.1559 - val_categorical_accuracy: 0.6162\n",
      "Epoch 23/50\n",
      "185/185 [==============================] - 897s 5s/step - loss: 0.7761 - categorical_accuracy: 0.7282 - val_loss: 1.1351 - val_categorical_accuracy: 0.6326\n",
      "Epoch 24/50\n",
      "185/185 [==============================] - 899s 5s/step - loss: 0.7335 - categorical_accuracy: 0.7360 - val_loss: 1.2569 - val_categorical_accuracy: 0.5901\n",
      "Epoch 25/50\n",
      "185/185 [==============================] - 904s 5s/step - loss: 0.7125 - categorical_accuracy: 0.7472 - val_loss: 1.1927 - val_categorical_accuracy: 0.6265\n",
      "Epoch 26/50\n",
      "185/185 [==============================] - 908s 5s/step - loss: 0.6841 - categorical_accuracy: 0.7568 - val_loss: 1.1348 - val_categorical_accuracy: 0.6361\n",
      "Epoch 27/50\n",
      "185/185 [==============================] - 912s 5s/step - loss: 0.6511 - categorical_accuracy: 0.7682 - val_loss: 1.1989 - val_categorical_accuracy: 0.6244\n",
      "Epoch 28/50\n",
      "185/185 [==============================] - 916s 5s/step - loss: 0.6456 - categorical_accuracy: 0.7719 - val_loss: 1.1967 - val_categorical_accuracy: 0.6237\n",
      "Epoch 29/50\n",
      "185/185 [==============================] - 919s 5s/step - loss: 0.5983 - categorical_accuracy: 0.7912 - val_loss: 1.1536 - val_categorical_accuracy: 0.6443\n",
      "Epoch 30/50\n",
      "185/185 [==============================] - 930s 5s/step - loss: 0.5888 - categorical_accuracy: 0.7960 - val_loss: 1.2311 - val_categorical_accuracy: 0.6258\n",
      "Epoch 31/50\n",
      "185/185 [==============================] - 926s 5s/step - loss: 0.5493 - categorical_accuracy: 0.8097 - val_loss: 1.3185 - val_categorical_accuracy: 0.6258\n",
      "Epoch 32/50\n",
      "185/185 [==============================] - 930s 5s/step - loss: 0.5202 - categorical_accuracy: 0.8182 - val_loss: 1.2638 - val_categorical_accuracy: 0.6258\n",
      "Epoch 33/50\n",
      "185/185 [==============================] - 935s 5s/step - loss: 0.5192 - categorical_accuracy: 0.8153 - val_loss: 1.2903 - val_categorical_accuracy: 0.6169\n",
      "Epoch 34/50\n",
      "185/185 [==============================] - 940s 5s/step - loss: 0.4670 - categorical_accuracy: 0.8418 - val_loss: 1.2838 - val_categorical_accuracy: 0.6285\n",
      "Epoch 35/50\n",
      "185/185 [==============================] - 942s 5s/step - loss: 0.4454 - categorical_accuracy: 0.8460 - val_loss: 1.2643 - val_categorical_accuracy: 0.6463\n",
      "Epoch 36/50\n",
      "185/185 [==============================] - 949s 5s/step - loss: 0.4301 - categorical_accuracy: 0.8506 - val_loss: 1.2938 - val_categorical_accuracy: 0.6450\n",
      "Epoch 37/50\n",
      "185/185 [==============================] - 944s 5s/step - loss: 0.4002 - categorical_accuracy: 0.8645 - val_loss: 1.3454 - val_categorical_accuracy: 0.6203\n",
      "Epoch 38/50\n",
      "185/185 [==============================] - 949s 5s/step - loss: 0.3751 - categorical_accuracy: 0.8759 - val_loss: 1.3968 - val_categorical_accuracy: 0.6230\n",
      "Epoch 39/50\n",
      "185/185 [==============================] - 950s 5s/step - loss: 0.3628 - categorical_accuracy: 0.8752 - val_loss: 1.3512 - val_categorical_accuracy: 0.6210\n",
      "Epoch 40/50\n",
      "185/185 [==============================] - 961s 5s/step - loss: 0.3459 - categorical_accuracy: 0.8835 - val_loss: 1.4172 - val_categorical_accuracy: 0.6292\n",
      "Epoch 41/50\n",
      "185/185 [==============================] - 972s 5s/step - loss: 0.2943 - categorical_accuracy: 0.9018 - val_loss: 1.4768 - val_categorical_accuracy: 0.6189\n",
      "Epoch 42/50\n",
      "185/185 [==============================] - 963s 5s/step - loss: 0.2973 - categorical_accuracy: 0.9008 - val_loss: 1.4804 - val_categorical_accuracy: 0.6114\n",
      "Epoch 43/50\n",
      "185/185 [==============================] - 964s 5s/step - loss: 0.2814 - categorical_accuracy: 0.9052 - val_loss: 1.4954 - val_categorical_accuracy: 0.6203\n",
      "Epoch 44/50\n",
      "185/185 [==============================] - 969s 5s/step - loss: 0.2481 - categorical_accuracy: 0.9191 - val_loss: 1.4440 - val_categorical_accuracy: 0.6217\n",
      "Epoch 45/50\n",
      "185/185 [==============================] - 1009s 5s/step - loss: 0.2326 - categorical_accuracy: 0.9257 - val_loss: 1.5750 - val_categorical_accuracy: 0.6169\n",
      "Epoch 46/50\n",
      "185/185 [==============================] - 1009s 5s/step - loss: 0.2210 - categorical_accuracy: 0.9267 - val_loss: 1.5818 - val_categorical_accuracy: 0.6258\n",
      "Epoch 47/50\n",
      "185/185 [==============================] - 974s 5s/step - loss: 0.1946 - categorical_accuracy: 0.9381 - val_loss: 1.6456 - val_categorical_accuracy: 0.6189\n",
      "Epoch 48/50\n",
      "185/185 [==============================] - 1111s 6s/step - loss: 0.2083 - categorical_accuracy: 0.9351 - val_loss: 1.5701 - val_categorical_accuracy: 0.6326\n",
      "Epoch 49/50\n",
      "185/185 [==============================] - 1040s 6s/step - loss: 0.1863 - categorical_accuracy: 0.9403 - val_loss: 1.6649 - val_categorical_accuracy: 0.6230\n",
      "Epoch 50/50\n",
      "185/185 [==============================] - 1004s 5s/step - loss: 0.1802 - categorical_accuracy: 0.9432 - val_loss: 1.6004 - val_categorical_accuracy: 0.6251\n"
     ]
    }
   ],
   "source": [
    "# train model\n",
    "history = model.fit(X_train, y_train,\n",
    "     batch_size = 32, epochs = 50,\n",
    "     validation_data = (X_test, y_test))"
   ]
  },
  {
   "cell_type": "code",
   "execution_count": 122,
   "metadata": {},
   "outputs": [
    {
     "data": {
      "image/png": "[encoded data removed]",
      "text/plain": [
       "<Figure size 432x288 with 1 Axes>"
      ]
     },
     "metadata": {
      "needs_background": "light"
     },
     "output_type": "display_data"
    }
   ],
   "source": [
    "plot_training(history, 0, 1)"
   ]
  },
  {
   "cell_type": "markdown",
   "metadata": {},
   "source": [
    "### Archive of Dead Code"
   ]
  },
  {
   "cell_type": "code",
   "execution_count": null,
   "metadata": {},
   "outputs": [],
   "source": [
    "# this doesn't work because gensim is an old library and returns a keras layer, not a tf.keras layer, which ruins everything\n",
    "embedding_layer = word_embedder.get_keras_embedding(train_embeddings=True)\n",
    "print(type(embedding_layer))\n",
    "index2entity = word_embedder.index2entity\n",
    "model = keras.Sequential()\n",
    "model.add(embedding_layer)\n",
    "model.compile(optimizer = \"adam\", loss = \"categorical_crossentropy\", metrics = ['CategoricalAccuracy'])"
   ]
  },
  {
   "cell_type": "code",
   "execution_count": null,
   "metadata": {},
   "outputs": [],
   "source": [
    "# this works fine it is just no longer needed\n",
    "# truncuate (and pad) a sample so that it has length of \"length\"\n",
    "def truncate_sample(words, length):\n",
    "    words = words[:length]\n",
    "    while len(words) < length:\n",
    "        words.append(dummy)\n",
    "    return words"
   ]
  },
  {
   "cell_type": "code",
   "execution_count": 12,
   "metadata": {},
   "outputs": [],
   "source": [
    "# these functions create a dataset for an LSTM that trains its own embeddings, which isn't our approach anymore\n",
    "# create a function that creates the LSTM dataset\n",
    "def lstm_dataset(X_train, X_test, sequence_length, max_words):\n",
    "    tokenizer = Tokenizer(num_words = max_words, oov_token='<OOV>')\n",
    "    tokenizer.fit_on_texts(X_train)\n",
    "    X_train = tokenize_text(X_train, tokenizer, sequence_length)\n",
    "    X_test = tokenize_text(X_test, tokenizer, sequence_length)\n",
    "    return X_train, X_test\n",
    "    \n",
    "# function that tokenizes and pads text\n",
    "def tokenize_text(text, tokenizer, sequence_length):\n",
    "    tokens = tokenizer.texts_to_sequences(text)\n",
    "    tokens = pad_sequences(tokens, maxlen=sequence_length, padding='post', truncating='post')\n",
    "    return tokens"
   ]
  }
 ],
 "metadata": {
  "kernelspec": {
   "display_name": "Python 3",
   "language": "python",
   "name": "python3"
  },
  "language_info": {
   "codemirror_mode": {
    "name": "ipython",
    "version": 3
   },
   "file_extension": ".py",
   "mimetype": "text/x-python",
   "name": "python",
   "nbconvert_exporter": "python",
   "pygments_lexer": "ipython3",
   "version": "3.7.7"
  }
 },
 "nbformat": 4,
 "nbformat_minor": 4
}
