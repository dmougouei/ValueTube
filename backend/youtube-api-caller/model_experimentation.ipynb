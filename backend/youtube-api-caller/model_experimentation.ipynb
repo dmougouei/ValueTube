{
 "cells": [
  {
   "cell_type": "code",
   "execution_count": 36,
   "metadata": {},
   "outputs": [
    {
     "name": "stderr",
     "output_type": "stream",
     "text": [
      "[nltk_data] Downloading package stopwords to\n",
      "[nltk_data]     C:\\Users\\liamw\\AppData\\Roaming\\nltk_data...\n",
      "[nltk_data]   Package stopwords is already up-to-date!\n"
     ]
    }
   ],
   "source": [
    "import re\n",
    "import sqlite3\n",
    "import pandas as pd\n",
    "import numpy as np\n",
    "import tensorflow as tf\n",
    "from sklearn.feature_extraction.text import TfidfVectorizer\n",
    "from sklearn.model_selection import train_test_split\n",
    "import nltk\n",
    "nltk.download('stopwords')\n",
    "from nltk.corpus import stopwords"
   ]
  },
  {
   "cell_type": "markdown",
   "metadata": {},
   "source": [
    "# Data Cleaning"
   ]
  },
  {
   "cell_type": "code",
   "execution_count": 37,
   "metadata": {},
   "outputs": [],
   "source": [
    "# Load the data from the comments database, returns the tuple (comments, categories)\n",
    "def load_data():\n",
    "    # read in the comments for each video from database\n",
    "    conn1 = sqlite3.connect(\"youtubeComments.db\")\n",
    "    c1 = conn1.cursor()\n",
    "    c1.execute(\"\"\"select c.videoID, textOriginal, categoryID\n",
    "        from commentsThreads c join ytidlist y on c.videoID = y.videoID\n",
    "        order by c.videoID\"\"\")\n",
    "    comments = c1.fetchall()\n",
    "\n",
    "    # using the fact that comments are ordered by videoID perform a manual group by\n",
    "    # so that videos[i] contains a giant string of all comments on the video\n",
    "    video_id = comments[0][0]\n",
    "    video_comments = [\"\"]\n",
    "    categories = [comments[0][2]] # store category ID of each video to use as a label\n",
    "    for comment in comments:\n",
    "        if video_id != comment[0]:\n",
    "            video_id = comment[0]\n",
    "            video_comments.append(\"\")\n",
    "            categories.append(comment[2])\n",
    "        video_comments[-1] += comment[1] + \" \"\n",
    "\n",
    "    return video_comments, categories"
   ]
  },
  {
   "cell_type": "code",
   "execution_count": 38,
   "metadata": {},
   "outputs": [],
   "source": [
    "# a function that performs preprocessing on the text, removing symbols and stopwords\n",
    "punctuation_re = re.compile('[/(){}\\[\\]\\|@,;]')\n",
    "non_alphanumeric_re = re.compile('[^0-9a-z #+_]')\n",
    "stopwords = set(stopwords.words('english'))\n",
    "def text_prepare(text):\n",
    "    text = text.lower()\n",
    "    text = re.sub(punctuation_re, \" \", text)\n",
    "    text = re.sub(non_alphanumeric_re, \"\", text)\n",
    "\n",
    "    # delete stopwords from text\n",
    "    for word in stopwords:\n",
    "      text = re.sub('(^|\\s+)' + word + '($|\\s+)', \" \", text)\n",
    "\n",
    "    # clean up whitespace\n",
    "    text = text.strip()\n",
    "    text = re.sub('\\s+', ' ', text) # transform all multi spaces into one space\n",
    "    return text"
   ]
  },
  {
   "cell_type": "code",
   "execution_count": 39,
   "metadata": {},
   "outputs": [],
   "source": [
    "# convert a scikitlearn sparse matrix to a tensorflow sparse tensor\n",
    "def convert_to_sparse_tensor(X):\n",
    "    coo = X.tocoo()\n",
    "    indices = np.mat([coo.row, coo.col]).transpose()\n",
    "    return tf.sparse.reorder(tf.sparse.SparseTensor(indices, coo.data, coo.shape))"
   ]
  },
  {
   "cell_type": "code",
   "execution_count": 40,
   "metadata": {},
   "outputs": [],
   "source": [
    "# create bag of words dataset using the tfidf method\n",
    "def create_dataset():\n",
    "    # load data and perform pre-processing\n",
    "    X, y = load_data()\n",
    "    comments = list(map(text_prepare, X))\n",
    "    y = pd.get_dummies(y) # convert y to one hot vectors\n",
    "\n",
    "    # split into train and test data\n",
    "    X_train, X_test, y_train, y_test = train_test_split(X, y, test_size = 0.2)\n",
    "    \n",
    "    # create and train tfidf vectorizer\n",
    "    tfidf_vectorizer = TfidfVectorizer(min_df = 2/len(comments),\n",
    "                                       max_df = 0.9,\n",
    "                                       ngram_range = (1, 2),\n",
    "                                       token_pattern = '(\\S+)')\n",
    "    tfidf_vectorizer.fit(X_train) # important to only fit on X_train to avoid data leakage\n",
    "\n",
    "    # apply the vectorizer and then transform the sparse matrix returned to a tensorflow sparse tensor\n",
    "    # so that tensorflow models can be used\n",
    "    X_train = convert_to_sparse_tensor(tfidf_vectorizer.transform(X_train))\n",
    "    X_test = convert_to_sparse_tensor(tfidf_vectorizer.transform(X_test))\n",
    "    return X_train, X_test, y_train, y_test, tfidf_vectorizer.vocabulary_"
   ]
  },
  {
   "cell_type": "code",
   "execution_count": 41,
   "metadata": {},
   "outputs": [],
   "source": [
    "X_train, X_test, y_train, y_test, vocabulary = create_dataset()\n",
    "# convert labels to be np array to work with tensorflow\n",
    "y_train = np.asarray(y_train) \n",
    "y_test = np.asarray(y_test)"
   ]
  },
  {
   "cell_type": "markdown",
   "metadata": {},
   "source": [
    "# Model Creation"
   ]
  },
  {
   "cell_type": "code",
   "execution_count": 42,
   "metadata": {},
   "outputs": [],
   "source": [
    "import matplotlib.pyplot as plt\n",
    "from tensorflow.keras.layers import Dense, Input\n",
    "from tensorflow.keras import Model"
   ]
  },
  {
   "cell_type": "code",
   "execution_count": 43,
   "metadata": {},
   "outputs": [],
   "source": [
    "# create a function to plot performance over a models training process\n",
    "def plot_training(history, y_min, y_max, title=\"model training\"):\n",
    "    plt.plot(history.history[\"categorical_accuracy\"], label=\"training\")\n",
    "    plt.plot(history.history[\"val_categorical_accuracy\"], label=\"validation\")\n",
    "    plt.xticks(range(0, len(history.history[\"categorical_accuracy\"]) + 5, 5))\n",
    "    plt.title(title)\n",
    "    plt.xlabel(\"Epoch\")\n",
    "    plt.ylabel(\"Categorical accuracy\")\n",
    "    plt.legend()\n",
    "    plt.gca().set_ylim([y_min, y_max])\n",
    "    plt.show()"
   ]
  },
  {
   "cell_type": "markdown",
   "metadata": {},
   "source": [
    "### Simple bag of words model"
   ]
  },
  {
   "cell_type": "code",
   "execution_count": 31,
   "metadata": {},
   "outputs": [
    {
     "name": "stdout",
     "output_type": "stream",
     "text": [
      "Model: \"model_5\"\n",
      "_________________________________________________________________\n",
      "Layer (type)                 Output Shape              Param #   \n",
      "=================================================================\n",
      "input_6 (InputLayer)         [(None, 218757)]          0         \n",
      "_________________________________________________________________\n",
      "dense_9 (Dense)              (None, 100)               21875800  \n",
      "_________________________________________________________________\n",
      "dense_10 (Dense)             (None, 100)               10100     \n",
      "_________________________________________________________________\n",
      "dense_11 (Dense)             (None, 10)                1010      \n",
      "=================================================================\n",
      "Total params: 21,886,910\n",
      "Trainable params: 21,886,910\n",
      "Non-trainable params: 0\n",
      "_________________________________________________________________\n"
     ]
    }
   ],
   "source": [
    "# build model\n",
    "X = Input(shape=(X_train.shape[1], ))\n",
    "dense1 = Dense(100, activation = \"relu\")(X)\n",
    "dense2 = Dense(y_train.shape[1], activation = \"softmax\")(dense1)\n",
    "nn = Model(inputs = X, outputs = dense3)\n",
    "nn.summary()"
   ]
  },
  {
   "cell_type": "code",
   "execution_count": 32,
   "metadata": {},
   "outputs": [
    {
     "name": "stdout",
     "output_type": "stream",
     "text": [
      "Epoch 1/30\n",
      "23/23 [==============================] - 2s 83ms/step - loss: 2.2476 - categorical_accuracy: 0.3329 - val_loss: 2.1353 - val_categorical_accuracy: 0.5000\n",
      "Epoch 2/30\n",
      "23/23 [==============================] - 2s 88ms/step - loss: 1.6142 - categorical_accuracy: 0.9045 - val_loss: 1.7550 - val_categorical_accuracy: 0.5618\n",
      "Epoch 3/30\n",
      "23/23 [==============================] - 2s 84ms/step - loss: 0.6483 - categorical_accuracy: 0.9846 - val_loss: 1.3829 - val_categorical_accuracy: 0.5899\n",
      "Epoch 4/30\n",
      "23/23 [==============================] - 2s 79ms/step - loss: 0.1464 - categorical_accuracy: 0.9986 - val_loss: 1.2153 - val_categorical_accuracy: 0.6404\n",
      "Epoch 5/30\n",
      "23/23 [==============================] - 2s 88ms/step - loss: 0.0461 - categorical_accuracy: 1.0000 - val_loss: 1.1247 - val_categorical_accuracy: 0.7079\n",
      "Epoch 6/30\n",
      "23/23 [==============================] - 2s 93ms/step - loss: 0.0223 - categorical_accuracy: 1.0000 - val_loss: 1.0839 - val_categorical_accuracy: 0.7022\n",
      "Epoch 7/30\n",
      "23/23 [==============================] - 2s 95ms/step - loss: 0.0136 - categorical_accuracy: 1.0000 - val_loss: 1.0781 - val_categorical_accuracy: 0.6798\n",
      "Epoch 8/30\n",
      "23/23 [==============================] - 2s 97ms/step - loss: 0.0090 - categorical_accuracy: 1.0000 - val_loss: 1.0574 - val_categorical_accuracy: 0.7022\n",
      "Epoch 9/30\n",
      "23/23 [==============================] - 2s 95ms/step - loss: 0.0067 - categorical_accuracy: 1.0000 - val_loss: 1.0444 - val_categorical_accuracy: 0.7135\n",
      "Epoch 10/30\n",
      "23/23 [==============================] - 2s 95ms/step - loss: 0.0051 - categorical_accuracy: 1.0000 - val_loss: 1.0392 - val_categorical_accuracy: 0.7135\n",
      "Epoch 11/30\n",
      "23/23 [==============================] - 2s 93ms/step - loss: 0.0040 - categorical_accuracy: 1.0000 - val_loss: 1.0330 - val_categorical_accuracy: 0.7079\n",
      "Epoch 12/30\n",
      "23/23 [==============================] - 2s 94ms/step - loss: 0.0033 - categorical_accuracy: 1.0000 - val_loss: 1.0245 - val_categorical_accuracy: 0.7079\n",
      "Epoch 13/30\n",
      "23/23 [==============================] - 2s 93ms/step - loss: 0.0027 - categorical_accuracy: 1.0000 - val_loss: 1.0227 - val_categorical_accuracy: 0.7135\n",
      "Epoch 14/30\n",
      "23/23 [==============================] - 2s 94ms/step - loss: 0.0022 - categorical_accuracy: 1.0000 - val_loss: 1.0198 - val_categorical_accuracy: 0.7135\n",
      "Epoch 15/30\n",
      "23/23 [==============================] - 2s 96ms/step - loss: 0.0019 - categorical_accuracy: 1.0000 - val_loss: 1.0167 - val_categorical_accuracy: 0.7079\n",
      "Epoch 16/30\n",
      "23/23 [==============================] - 2s 94ms/step - loss: 0.0016 - categorical_accuracy: 1.0000 - val_loss: 1.0135 - val_categorical_accuracy: 0.7079\n",
      "Epoch 17/30\n",
      "23/23 [==============================] - 2s 93ms/step - loss: 0.0014 - categorical_accuracy: 1.0000 - val_loss: 1.0106 - val_categorical_accuracy: 0.7135\n",
      "Epoch 18/30\n",
      "23/23 [==============================] - 2s 93ms/step - loss: 0.0013 - categorical_accuracy: 1.0000 - val_loss: 1.0088 - val_categorical_accuracy: 0.7022\n",
      "Epoch 19/30\n",
      "23/23 [==============================] - 2s 94ms/step - loss: 0.0011 - categorical_accuracy: 1.0000 - val_loss: 1.0074 - val_categorical_accuracy: 0.7022\n",
      "Epoch 20/30\n",
      "23/23 [==============================] - 2s 94ms/step - loss: 9.8644e-04 - categorical_accuracy: 1.0000 - val_loss: 1.0049 - val_categorical_accuracy: 0.7022\n",
      "Epoch 21/30\n",
      "23/23 [==============================] - 2s 93ms/step - loss: 8.7762e-04 - categorical_accuracy: 1.0000 - val_loss: 1.0032 - val_categorical_accuracy: 0.7079\n",
      "Epoch 22/30\n",
      "23/23 [==============================] - 2s 97ms/step - loss: 7.9283e-04 - categorical_accuracy: 1.0000 - val_loss: 1.0009 - val_categorical_accuracy: 0.7022\n",
      "Epoch 23/30\n",
      "23/23 [==============================] - 2s 95ms/step - loss: 7.0232e-04 - categorical_accuracy: 1.0000 - val_loss: 1.0016 - val_categorical_accuracy: 0.7022\n",
      "Epoch 24/30\n",
      "23/23 [==============================] - 2s 94ms/step - loss: 6.3635e-04 - categorical_accuracy: 1.0000 - val_loss: 1.0005 - val_categorical_accuracy: 0.7022\n",
      "Epoch 25/30\n",
      "23/23 [==============================] - 2s 95ms/step - loss: 5.7143e-04 - categorical_accuracy: 1.0000 - val_loss: 0.9998 - val_categorical_accuracy: 0.7022\n",
      "Epoch 26/30\n",
      "23/23 [==============================] - 2s 93ms/step - loss: 5.1616e-04 - categorical_accuracy: 1.0000 - val_loss: 1.0010 - val_categorical_accuracy: 0.6966\n",
      "Epoch 27/30\n",
      "23/23 [==============================] - 2s 98ms/step - loss: 4.6913e-04 - categorical_accuracy: 1.0000 - val_loss: 1.0017 - val_categorical_accuracy: 0.6966\n",
      "Epoch 28/30\n",
      "23/23 [==============================] - 2s 100ms/step - loss: 4.2762e-04 - categorical_accuracy: 1.0000 - val_loss: 1.0013 - val_categorical_accuracy: 0.6966\n",
      "Epoch 29/30\n",
      "23/23 [==============================] - 2s 104ms/step - loss: 3.9098e-04 - categorical_accuracy: 1.0000 - val_loss: 1.0020 - val_categorical_accuracy: 0.7022\n",
      "Epoch 30/30\n",
      "23/23 [==============================] - 2s 100ms/step - loss: 3.6193e-04 - categorical_accuracy: 1.0000 - val_loss: 1.0009 - val_categorical_accuracy: 0.6966\n"
     ]
    }
   ],
   "source": [
    "# train model\n",
    "nn.compile(optimizer = \"adam\", loss = \"categorical_crossentropy\", metrics = ['CategoricalAccuracy'])\n",
    "history = nn.fit(X_train, y_train,\n",
    "                 batch_size = 32, epochs = 30,\n",
    "                 validation_data = (X_test, y_test))"
   ]
  },
  {
   "cell_type": "code",
   "execution_count": 33,
   "metadata": {},
   "outputs": [
    {
     "data": {
      "image/png": "[encoded data removed]",
      "text/plain": [
       "<Figure size 432x288 with 1 Axes>"
      ]
     },
     "metadata": {
      "needs_background": "light"
     },
     "output_type": "display_data"
    }
   ],
   "source": [
    "plot_training(history, 0, 1)"
   ]
  },
  {
   "cell_type": "markdown",
   "metadata": {},
   "source": [
    "### LSTM model"
   ]
  },
  {
   "cell_type": "code",
   "execution_count": 89,
   "metadata": {},
   "outputs": [],
   "source": [
    "from tensorflow.keras.preprocessing.text import Tokenizer\n",
    "from tensorflow.keras.preprocessing.sequence import pad_sequences\n",
    "from tensorflow.keras.layers import Bidirectional, LSTM, Embedding"
   ]
  },
  {
   "cell_type": "markdown",
   "metadata": {},
   "source": [
    "having the same sequence length is necessary for batching, we first examine the number of words in the comment section of each video"
   ]
  },
  {
   "cell_type": "code",
   "execution_count": 59,
   "metadata": {},
   "outputs": [],
   "source": [
    "# first get the data, we need the normal words format not the bag of words array\n",
    "X, y = load_data()\n",
    "comments = list(map(text_prepare, X))\n",
    "y = pd.get_dummies(y) # convert y to one hot vectors"
   ]
  },
  {
   "cell_type": "code",
   "execution_count": 78,
   "metadata": {},
   "outputs": [],
   "source": [
    "# split into train and test data\n",
    "X_train, X_test, y_train, y_test = train_test_split(X, y, test_size = 0.2)"
   ]
  },
  {
   "cell_type": "code",
   "execution_count": 51,
   "metadata": {},
   "outputs": [
    {
     "data": {
      "text/plain": [
       "(array([223., 317.,  99.,  32.,  20.,  13.,   5.,   0.,   1.,   2.]),\n",
       " array([  323. ,  3446.4,  6569.8,  9693.2, 12816.6, 15940. , 19063.4,\n",
       "        22186.8, 25310.2, 28433.6, 31557. ]),\n",
       " <a list of 10 Patch objects>)"
      ]
     },
     "execution_count": 51,
     "metadata": {},
     "output_type": "execute_result"
    },
    {
     "data": {
      "image/png": "[encoded data removed]",
      "text/plain": [
       "<Figure size 432x288 with 1 Axes>"
      ]
     },
     "metadata": {
      "needs_background": "light"
     },
     "output_type": "display_data"
    }
   ],
   "source": [
    "words_per_video = list(map(lambda x: len(x.split(\" \")), X_train))\n",
    "plt.hist(words_per_video)"
   ]
  },
  {
   "cell_type": "code",
   "execution_count": 52,
   "metadata": {},
   "outputs": [
    {
     "data": {
      "text/plain": [
       "5532.077247191011"
      ]
     },
     "execution_count": 52,
     "metadata": {},
     "output_type": "execute_result"
    }
   ],
   "source": [
    "np.mean(words_per_video)"
   ]
  },
  {
   "cell_type": "markdown",
   "metadata": {},
   "source": [
    "Now we need to create our dataset, 5000 words is too much for an LSTM so I'll first try 400"
   ]
  },
  {
   "cell_type": "code",
   "execution_count": 80,
   "metadata": {},
   "outputs": [],
   "source": [
    "# create a function that creates the LSTM dataset\n",
    "def lstm_dataset(X_train, X_test, sequence_length, max_words):\n",
    "    tokenizer = Tokenizer(num_words = max_words, oov_token='<OOV>')\n",
    "    tokenizer.fit_on_texts(X_train)\n",
    "    X_train = tokenize_text(X_train, tokenizer, sequence_length)\n",
    "    X_test = tokenize_text(X_test, tokenizer, sequence_length)\n",
    "    return X_train, X_test\n",
    "    \n",
    "# function that tokenizes and pads text\n",
    "def tokenize_text(text, tokenizer, sequence_length):\n",
    "    tokens = tokenizer.texts_to_sequences(text)\n",
    "    tokens = pad_sequences(tokens, maxlen=sequence_length, padding='post', truncating='post')\n",
    "    return tokens"
   ]
  },
  {
   "cell_type": "code",
   "execution_count": 112,
   "metadata": {},
   "outputs": [],
   "source": [
    "max_words = 100000 # this needs to be below the number of unique words in the training set\n",
    "X_train, X_test, y_train, y_test = train_test_split(X, y, test_size = 0.2)\n",
    "X_train, X_test = lstm_dataset(X_train, X_test, 5000, max_words)"
   ]
  },
  {
   "cell_type": "code",
   "execution_count": 113,
   "metadata": {},
   "outputs": [
    {
     "name": "stdout",
     "output_type": "stream",
     "text": [
      "Model: \"sequential_13\"\n",
      "_________________________________________________________________\n",
      "Layer (type)                 Output Shape              Param #   \n",
      "=================================================================\n",
      "embedding_13 (Embedding)     (None, None, 50)          5000000   \n",
      "_________________________________________________________________\n",
      "bidirectional_9 (Bidirection (None, 100)               40400     \n",
      "_________________________________________________________________\n",
      "dense_28 (Dense)             (None, 10)                1010      \n",
      "=================================================================\n",
      "Total params: 5,041,410\n",
      "Trainable params: 5,041,410\n",
      "Non-trainable params: 0\n",
      "_________________________________________________________________\n"
     ]
    }
   ],
   "source": [
    "model = tf.keras.Sequential()\n",
    "model.add(Embedding(max_words, 50))\n",
    "model.add(Bidirectional(LSTM(50, activation='tanh', dropout=0.5, recurrent_dropout=0.5)))\n",
    "model.add(Dense(y_train.shape[1], activation='softmax'))\n",
    "model.summary()"
   ]
  },
  {
   "cell_type": "markdown",
   "metadata": {},
   "source": [
    "Unfortunately training doesn't go well, I think we need to use pretrained word2vec embeddings as we don't have enough data"
   ]
  },
  {
   "cell_type": "code",
   "execution_count": null,
   "metadata": {},
   "outputs": [
    {
     "name": "stdout",
     "output_type": "stream",
     "text": [
      "Epoch 1/30\n",
      "23/23 [==============================] - 597s 26s/step - loss: 2.3037 - categorical_accuracy: 0.0969 - val_loss: 2.2966 - val_categorical_accuracy: 0.1404\n",
      "Epoch 2/30\n",
      "23/23 [==============================] - 902s 39s/step - loss: 2.2894 - categorical_accuracy: 0.1601 - val_loss: 2.2931 - val_categorical_accuracy: 0.1629\n",
      "Epoch 3/30\n",
      "23/23 [==============================] - 1031s 45s/step - loss: 2.2601 - categorical_accuracy: 0.2247 - val_loss: 2.2842 - val_categorical_accuracy: 0.1854\n",
      "Epoch 4/30\n",
      "23/23 [==============================] - 1104s 48s/step - loss: 2.1468 - categorical_accuracy: 0.2388 - val_loss: 2.2120 - val_categorical_accuracy: 0.2022\n",
      "Epoch 5/30\n",
      "23/23 [==============================] - 1146s 50s/step - loss: 1.9283 - categorical_accuracy: 0.3132 - val_loss: 2.1833 - val_categorical_accuracy: 0.1854\n",
      "Epoch 6/30\n",
      "23/23 [==============================] - 1274s 55s/step - loss: 1.7130 - categorical_accuracy: 0.3511 - val_loss: 2.2289 - val_categorical_accuracy: 0.2022\n",
      "Epoch 7/30\n",
      " 5/23 [=====>........................] - ETA: 14:00 - loss: 1.5533 - categorical_accuracy: 0.4875"
     ]
    }
   ],
   "source": [
    "# train model\n",
    "model.compile(optimizer = \"adam\", loss = \"categorical_crossentropy\", metrics = ['CategoricalAccuracy'])\n",
    "history = model.fit(X_train, y_train,\n",
    "     batch_size = 32, epochs = 30,\n",
    "     validation_data = (X_test, y_test))"
   ]
  },
  {
   "cell_type": "code",
   "execution_count": null,
   "metadata": {},
   "outputs": [],
   "source": []
  }
 ],
 "metadata": {
  "kernelspec": {
   "display_name": "Python 3",
   "language": "python",
   "name": "python3"
  },
  "language_info": {
   "codemirror_mode": {
    "name": "ipython",
    "version": 3
   },
   "file_extension": ".py",
   "mimetype": "text/x-python",
   "name": "python",
   "nbconvert_exporter": "python",
   "pygments_lexer": "ipython3",
   "version": "3.7.7"
  }
 },
 "nbformat": 4,
 "nbformat_minor": 4
}
