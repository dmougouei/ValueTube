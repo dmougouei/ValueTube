{
 "cells": [
  {
   "cell_type": "code",
   "execution_count": 1,
   "metadata": {},
   "outputs": [
    {
     "name": "stderr",
     "output_type": "stream",
     "text": [
      "[nltk_data] Downloading package stopwords to\n",
      "[nltk_data]     C:\\Users\\liamw\\AppData\\Roaming\\nltk_data...\n",
      "[nltk_data]   Package stopwords is already up-to-date!\n"
     ]
    }
   ],
   "source": [
    "import re\n",
    "import sqlite3\n",
    "import pandas as pd\n",
    "import numpy as np\n",
    "import tensorflow as tf\n",
    "from sklearn.feature_extraction.text import TfidfVectorizer\n",
    "from sklearn.model_selection import train_test_split\n",
    "import nltk\n",
    "nltk.download('stopwords')\n",
    "from nltk.corpus import stopwords"
   ]
  },
  {
   "cell_type": "markdown",
   "metadata": {},
   "source": [
    "# Data Cleaning"
   ]
  },
  {
   "cell_type": "code",
   "execution_count": 2,
   "metadata": {},
   "outputs": [],
   "source": [
    "# Load the data from the comments database, returns the tuple (comments, categories)\n",
    "def load_data():\n",
    "    # read in the comments for each video from database\n",
    "    conn1 = sqlite3.connect(\"youtubeComments.db\")\n",
    "    c1 = conn1.cursor()\n",
    "    c1.execute(\"\"\"select c.videoID, textOriginal, categoryID\n",
    "        from commentsThreads c join ytidlist y on c.videoID = y.videoID\n",
    "        order by c.videoID\"\"\")\n",
    "    comments = c1.fetchall()\n",
    "\n",
    "    # using the fact that comments are ordered by videoID perform a manual group by\n",
    "    # so that videos[i] contains a giant string of all comments on the video\n",
    "    video_id = comments[0][0]\n",
    "    video_comments = [\"\"]\n",
    "    categories = [comments[0][2]] # store category ID of each video to use as a label\n",
    "    for comment in comments:\n",
    "        if video_id != comment[0]:\n",
    "            video_id = comment[0]\n",
    "            video_comments.append(\"\")\n",
    "            categories.append(comment[2])\n",
    "        video_comments[-1] += comment[1] + \" \"\n",
    "\n",
    "    return video_comments, categories"
   ]
  },
  {
   "cell_type": "code",
   "execution_count": 3,
   "metadata": {},
   "outputs": [],
   "source": [
    "# a function that performs preprocessing on the text, removing symbols and stopwords\n",
    "punctuation_re = re.compile('[/(){}\\[\\]\\|@,;]')\n",
    "non_alphanumeric_re = re.compile('[^0-9a-z #+_]')\n",
    "stopwords = set(stopwords.words('english'))\n",
    "def text_prepare(text):\n",
    "    text = text.lower()\n",
    "    text = re.sub(punctuation_re, \" \", text)\n",
    "    text = re.sub(non_alphanumeric_re, \"\", text)\n",
    "\n",
    "    # delete stopwords from text\n",
    "    for word in stopwords:\n",
    "      text = re.sub('(^|\\s+)' + word + '($|\\s+)', \" \", text)\n",
    "\n",
    "    # clean up whitespace\n",
    "    text = text.strip()\n",
    "    text = re.sub('\\s+', ' ', text) # transform all multi spaces into one space\n",
    "    return text"
   ]
  },
  {
   "cell_type": "code",
   "execution_count": 4,
   "metadata": {},
   "outputs": [],
   "source": [
    "# convert a scikitlearn sparse matrix to a tensorflow sparse tensor\n",
    "def convert_to_sparse_tensor(X):\n",
    "    coo = X.tocoo()\n",
    "    indices = np.mat([coo.row, coo.col]).transpose()\n",
    "    return tf.sparse.reorder(tf.sparse.SparseTensor(indices, coo.data, coo.shape))"
   ]
  },
  {
   "cell_type": "code",
   "execution_count": 5,
   "metadata": {},
   "outputs": [],
   "source": [
    "# create bag of words dataset using the tfidf method\n",
    "def create_dataset():\n",
    "    # load data and perform pre-processing\n",
    "    X, y = load_data()\n",
    "    comments = list(map(text_prepare, X))\n",
    "    y = pd.get_dummies(y) # convert y to one hot vectors\n",
    "\n",
    "    # split into train and test data\n",
    "    X_train, X_test, y_train, y_test = train_test_split(X, y, test_size = 0.2)\n",
    "    \n",
    "    # create and train tfidf vectorizer\n",
    "    tfidf_vectorizer = TfidfVectorizer(min_df = 2/len(comments),\n",
    "                                       max_df = 0.9,\n",
    "                                       ngram_range = (1, 2),\n",
    "                                       token_pattern = '(\\S+)')\n",
    "    tfidf_vectorizer.fit(X_train) # important to only fit on X_train to avoid data leakage\n",
    "\n",
    "    # apply the vectorizer and then transform the sparse matrix returned to a tensorflow sparse tensor\n",
    "    # so that tensorflow models can be used\n",
    "    X_train = convert_to_sparse_tensor(tfidf_vectorizer.transform(X_train))\n",
    "    X_test = convert_to_sparse_tensor(tfidf_vectorizer.transform(X_test))\n",
    "    return X_train, X_test, y_train, y_test, tfidf_vectorizer.vocabulary_"
   ]
  },
  {
   "cell_type": "code",
   "execution_count": 41,
   "metadata": {},
   "outputs": [],
   "source": [
    "X_train, X_test, y_train, y_test, vocabulary = create_dataset()\n",
    "# convert labels to be np array to work with tensorflow\n",
    "y_train = np.asarray(y_train) \n",
    "y_test = np.asarray(y_test)"
   ]
  },
  {
   "cell_type": "markdown",
   "metadata": {},
   "source": [
    "# Model Creation"
   ]
  },
  {
   "cell_type": "code",
   "execution_count": 6,
   "metadata": {},
   "outputs": [],
   "source": [
    "import matplotlib.pyplot as plt\n",
    "from tensorflow.keras.layers import Dense, Input\n",
    "from tensorflow.keras import Model"
   ]
  },
  {
   "cell_type": "code",
   "execution_count": 143,
   "metadata": {},
   "outputs": [],
   "source": [
    "# create a function to plot performance over a models training process\n",
    "def plot_training(history, y_min, y_max, title=\"model training\"):\n",
    "    plt.plot(history.history[\"categorical_accuracy\"], label=\"training\")\n",
    "    plt.plot(history.history[\"val_categorical_accuracy\"], label=\"validation\")\n",
    "    plt.xticks(range(0, len(history.history[\"categorical_accuracy\"]) + 5, 5))\n",
    "    plt.title(title)\n",
    "    plt.xlabel(\"Epoch\")\n",
    "    plt.ylabel(\"Categorical accuracy\")\n",
    "    plt.legend()\n",
    "    plt.gca().set_ylim([y_min, y_max])\n",
    "    plt.show()"
   ]
  },
  {
   "cell_type": "markdown",
   "metadata": {},
   "source": [
    "### Simple bag of words model"
   ]
  },
  {
   "cell_type": "code",
   "execution_count": 31,
   "metadata": {},
   "outputs": [
    {
     "name": "stdout",
     "output_type": "stream",
     "text": [
      "Model: \"model_5\"\n",
      "_________________________________________________________________\n",
      "Layer (type)                 Output Shape              Param #   \n",
      "=================================================================\n",
      "input_6 (InputLayer)         [(None, 218757)]          0         \n",
      "_________________________________________________________________\n",
      "dense_9 (Dense)              (None, 100)               21875800  \n",
      "_________________________________________________________________\n",
      "dense_10 (Dense)             (None, 100)               10100     \n",
      "_________________________________________________________________\n",
      "dense_11 (Dense)             (None, 10)                1010      \n",
      "=================================================================\n",
      "Total params: 21,886,910\n",
      "Trainable params: 21,886,910\n",
      "Non-trainable params: 0\n",
      "_________________________________________________________________\n"
     ]
    }
   ],
   "source": [
    "# build model\n",
    "X = Input(shape=(X_train.shape[1], ))\n",
    "dense1 = Dense(100, activation = \"relu\")(X)\n",
    "dense2 = Dense(y_train.shape[1], activation = \"softmax\")(dense1)\n",
    "nn = Model(inputs = X, outputs = dense3)\n",
    "nn.summary()"
   ]
  },
  {
   "cell_type": "code",
   "execution_count": 32,
   "metadata": {},
   "outputs": [
    {
     "name": "stdout",
     "output_type": "stream",
     "text": [
      "Epoch 1/30\n",
      "23/23 [==============================] - 2s 83ms/step - loss: 2.2476 - categorical_accuracy: 0.3329 - val_loss: 2.1353 - val_categorical_accuracy: 0.5000\n",
      "Epoch 2/30\n",
      "23/23 [==============================] - 2s 88ms/step - loss: 1.6142 - categorical_accuracy: 0.9045 - val_loss: 1.7550 - val_categorical_accuracy: 0.5618\n",
      "Epoch 3/30\n",
      "23/23 [==============================] - 2s 84ms/step - loss: 0.6483 - categorical_accuracy: 0.9846 - val_loss: 1.3829 - val_categorical_accuracy: 0.5899\n",
      "Epoch 4/30\n",
      "23/23 [==============================] - 2s 79ms/step - loss: 0.1464 - categorical_accuracy: 0.9986 - val_loss: 1.2153 - val_categorical_accuracy: 0.6404\n",
      "Epoch 5/30\n",
      "23/23 [==============================] - 2s 88ms/step - loss: 0.0461 - categorical_accuracy: 1.0000 - val_loss: 1.1247 - val_categorical_accuracy: 0.7079\n",
      "Epoch 6/30\n",
      "23/23 [==============================] - 2s 93ms/step - loss: 0.0223 - categorical_accuracy: 1.0000 - val_loss: 1.0839 - val_categorical_accuracy: 0.7022\n",
      "Epoch 7/30\n",
      "23/23 [==============================] - 2s 95ms/step - loss: 0.0136 - categorical_accuracy: 1.0000 - val_loss: 1.0781 - val_categorical_accuracy: 0.6798\n",
      "Epoch 8/30\n",
      "23/23 [==============================] - 2s 97ms/step - loss: 0.0090 - categorical_accuracy: 1.0000 - val_loss: 1.0574 - val_categorical_accuracy: 0.7022\n",
      "Epoch 9/30\n",
      "23/23 [==============================] - 2s 95ms/step - loss: 0.0067 - categorical_accuracy: 1.0000 - val_loss: 1.0444 - val_categorical_accuracy: 0.7135\n",
      "Epoch 10/30\n",
      "23/23 [==============================] - 2s 95ms/step - loss: 0.0051 - categorical_accuracy: 1.0000 - val_loss: 1.0392 - val_categorical_accuracy: 0.7135\n",
      "Epoch 11/30\n",
      "23/23 [==============================] - 2s 93ms/step - loss: 0.0040 - categorical_accuracy: 1.0000 - val_loss: 1.0330 - val_categorical_accuracy: 0.7079\n",
      "Epoch 12/30\n",
      "23/23 [==============================] - 2s 94ms/step - loss: 0.0033 - categorical_accuracy: 1.0000 - val_loss: 1.0245 - val_categorical_accuracy: 0.7079\n",
      "Epoch 13/30\n",
      "23/23 [==============================] - 2s 93ms/step - loss: 0.0027 - categorical_accuracy: 1.0000 - val_loss: 1.0227 - val_categorical_accuracy: 0.7135\n",
      "Epoch 14/30\n",
      "23/23 [==============================] - 2s 94ms/step - loss: 0.0022 - categorical_accuracy: 1.0000 - val_loss: 1.0198 - val_categorical_accuracy: 0.7135\n",
      "Epoch 15/30\n",
      "23/23 [==============================] - 2s 96ms/step - loss: 0.0019 - categorical_accuracy: 1.0000 - val_loss: 1.0167 - val_categorical_accuracy: 0.7079\n",
      "Epoch 16/30\n",
      "23/23 [==============================] - 2s 94ms/step - loss: 0.0016 - categorical_accuracy: 1.0000 - val_loss: 1.0135 - val_categorical_accuracy: 0.7079\n",
      "Epoch 17/30\n",
      "23/23 [==============================] - 2s 93ms/step - loss: 0.0014 - categorical_accuracy: 1.0000 - val_loss: 1.0106 - val_categorical_accuracy: 0.7135\n",
      "Epoch 18/30\n",
      "23/23 [==============================] - 2s 93ms/step - loss: 0.0013 - categorical_accuracy: 1.0000 - val_loss: 1.0088 - val_categorical_accuracy: 0.7022\n",
      "Epoch 19/30\n",
      "23/23 [==============================] - 2s 94ms/step - loss: 0.0011 - categorical_accuracy: 1.0000 - val_loss: 1.0074 - val_categorical_accuracy: 0.7022\n",
      "Epoch 20/30\n",
      "23/23 [==============================] - 2s 94ms/step - loss: 9.8644e-04 - categorical_accuracy: 1.0000 - val_loss: 1.0049 - val_categorical_accuracy: 0.7022\n",
      "Epoch 21/30\n",
      "23/23 [==============================] - 2s 93ms/step - loss: 8.7762e-04 - categorical_accuracy: 1.0000 - val_loss: 1.0032 - val_categorical_accuracy: 0.7079\n",
      "Epoch 22/30\n",
      "23/23 [==============================] - 2s 97ms/step - loss: 7.9283e-04 - categorical_accuracy: 1.0000 - val_loss: 1.0009 - val_categorical_accuracy: 0.7022\n",
      "Epoch 23/30\n",
      "23/23 [==============================] - 2s 95ms/step - loss: 7.0232e-04 - categorical_accuracy: 1.0000 - val_loss: 1.0016 - val_categorical_accuracy: 0.7022\n",
      "Epoch 24/30\n",
      "23/23 [==============================] - 2s 94ms/step - loss: 6.3635e-04 - categorical_accuracy: 1.0000 - val_loss: 1.0005 - val_categorical_accuracy: 0.7022\n",
      "Epoch 25/30\n",
      "23/23 [==============================] - 2s 95ms/step - loss: 5.7143e-04 - categorical_accuracy: 1.0000 - val_loss: 0.9998 - val_categorical_accuracy: 0.7022\n",
      "Epoch 26/30\n",
      "23/23 [==============================] - 2s 93ms/step - loss: 5.1616e-04 - categorical_accuracy: 1.0000 - val_loss: 1.0010 - val_categorical_accuracy: 0.6966\n",
      "Epoch 27/30\n",
      "23/23 [==============================] - 2s 98ms/step - loss: 4.6913e-04 - categorical_accuracy: 1.0000 - val_loss: 1.0017 - val_categorical_accuracy: 0.6966\n",
      "Epoch 28/30\n",
      "23/23 [==============================] - 2s 100ms/step - loss: 4.2762e-04 - categorical_accuracy: 1.0000 - val_loss: 1.0013 - val_categorical_accuracy: 0.6966\n",
      "Epoch 29/30\n",
      "23/23 [==============================] - 2s 104ms/step - loss: 3.9098e-04 - categorical_accuracy: 1.0000 - val_loss: 1.0020 - val_categorical_accuracy: 0.7022\n",
      "Epoch 30/30\n",
      "23/23 [==============================] - 2s 100ms/step - loss: 3.6193e-04 - categorical_accuracy: 1.0000 - val_loss: 1.0009 - val_categorical_accuracy: 0.6966\n"
     ]
    }
   ],
   "source": [
    "# train model\n",
    "nn.compile(optimizer = \"adam\", loss = \"categorical_crossentropy\", metrics = ['CategoricalAccuracy'])\n",
    "history = nn.fit(X_train, y_train,\n",
    "                 batch_size = 32, epochs = 30,\n",
    "                 validation_data = (X_test, y_test))"
   ]
  },
  {
   "cell_type": "code",
   "execution_count": 33,
   "metadata": {},
   "outputs": [
    {
     "data": {
      "image/png": "[encoded data removed]",
      "text/plain": [
       "<Figure size 432x288 with 1 Axes>"
      ]
     },
     "metadata": {
      "needs_background": "light"
     },
     "output_type": "display_data"
    }
   ],
   "source": [
    "plot_training(history, 0, 1)"
   ]
  },
  {
   "cell_type": "markdown",
   "metadata": {},
   "source": [
    "### LSTM model"
   ]
  },
  {
   "cell_type": "code",
   "execution_count": 113,
   "metadata": {},
   "outputs": [],
   "source": [
    "import gensim\n",
    "from tensorflow.keras.preprocessing.text import Tokenizer\n",
    "from tensorflow.keras.preprocessing.sequence import pad_sequences\n",
    "from tensorflow.keras.layers import Bidirectional, LSTM, Embedding"
   ]
  },
  {
   "cell_type": "markdown",
   "metadata": {},
   "source": [
    "First we load and clean the data"
   ]
  },
  {
   "cell_type": "code",
   "execution_count": 49,
   "metadata": {},
   "outputs": [],
   "source": [
    "X, y = load_data()\n",
    "X = list(map(text_prepare, X))\n",
    "y = pd.get_dummies(y) # convert y to one hot vectors"
   ]
  },
  {
   "cell_type": "markdown",
   "metadata": {},
   "source": [
    "Now transform the words into the pretrained word2vec embeddings obtained from here: https://wikipedia2vec.github.io/wikipedia2vec/pretrained/"
   ]
  },
  {
   "cell_type": "code",
   "execution_count": 114,
   "metadata": {
    "collapsed": true,
    "jupyter": {
     "outputs_hidden": true
    }
   },
   "outputs": [
    {
     "ename": "KeyboardInterrupt",
     "evalue": "",
     "output_type": "error",
     "traceback": [
      "\u001b[1;31m---------------------------------------------------------------------------\u001b[0m",
      "\u001b[1;31mKeyboardInterrupt\u001b[0m                         Traceback (most recent call last)",
      "\u001b[1;32m<ipython-input-114-323df2476a81>\u001b[0m in \u001b[0;36m<module>\u001b[1;34m\u001b[0m\n\u001b[0;32m      2\u001b[0m \u001b[0membedding_file\u001b[0m \u001b[1;33m=\u001b[0m \u001b[1;34m\"enwiki_20180420_win10_100d.txt.bz2\"\u001b[0m\u001b[1;33m\u001b[0m\u001b[1;33m\u001b[0m\u001b[0m\n\u001b[0;32m      3\u001b[0m \u001b[0membedding_size\u001b[0m \u001b[1;33m=\u001b[0m \u001b[1;36m100\u001b[0m\u001b[1;33m\u001b[0m\u001b[1;33m\u001b[0m\u001b[0m\n\u001b[1;32m----> 4\u001b[1;33m \u001b[0mword_embedder\u001b[0m \u001b[1;33m=\u001b[0m \u001b[0mgensim\u001b[0m\u001b[1;33m.\u001b[0m\u001b[0mmodels\u001b[0m\u001b[1;33m.\u001b[0m\u001b[0mKeyedVectors\u001b[0m\u001b[1;33m.\u001b[0m\u001b[0mload_word2vec_format\u001b[0m\u001b[1;33m(\u001b[0m\u001b[0membedding_file\u001b[0m\u001b[1;33m,\u001b[0m \u001b[0mbinary\u001b[0m\u001b[1;33m=\u001b[0m\u001b[1;32mFalse\u001b[0m\u001b[1;33m)\u001b[0m\u001b[1;33m\u001b[0m\u001b[1;33m\u001b[0m\u001b[0m\n\u001b[0m",
      "\u001b[1;32m~\\anaconda3\\envs\\tf\\lib\\site-packages\\gensim\\models\\keyedvectors.py\u001b[0m in \u001b[0;36mload_word2vec_format\u001b[1;34m(cls, fname, fvocab, binary, encoding, unicode_errors, limit, datatype)\u001b[0m\n\u001b[0;32m   1496\u001b[0m         return _load_word2vec_format(\n\u001b[0;32m   1497\u001b[0m             \u001b[0mcls\u001b[0m\u001b[1;33m,\u001b[0m \u001b[0mfname\u001b[0m\u001b[1;33m,\u001b[0m \u001b[0mfvocab\u001b[0m\u001b[1;33m=\u001b[0m\u001b[0mfvocab\u001b[0m\u001b[1;33m,\u001b[0m \u001b[0mbinary\u001b[0m\u001b[1;33m=\u001b[0m\u001b[0mbinary\u001b[0m\u001b[1;33m,\u001b[0m \u001b[0mencoding\u001b[0m\u001b[1;33m=\u001b[0m\u001b[0mencoding\u001b[0m\u001b[1;33m,\u001b[0m \u001b[0municode_errors\u001b[0m\u001b[1;33m=\u001b[0m\u001b[0municode_errors\u001b[0m\u001b[1;33m,\u001b[0m\u001b[1;33m\u001b[0m\u001b[1;33m\u001b[0m\u001b[0m\n\u001b[1;32m-> 1498\u001b[1;33m             limit=limit, datatype=datatype)\n\u001b[0m\u001b[0;32m   1499\u001b[0m \u001b[1;33m\u001b[0m\u001b[0m\n\u001b[0;32m   1500\u001b[0m     \u001b[1;32mdef\u001b[0m \u001b[0mget_keras_embedding\u001b[0m\u001b[1;33m(\u001b[0m\u001b[0mself\u001b[0m\u001b[1;33m,\u001b[0m \u001b[0mtrain_embeddings\u001b[0m\u001b[1;33m=\u001b[0m\u001b[1;32mFalse\u001b[0m\u001b[1;33m)\u001b[0m\u001b[1;33m:\u001b[0m\u001b[1;33m\u001b[0m\u001b[1;33m\u001b[0m\u001b[0m\n",
      "\u001b[1;32m~\\anaconda3\\envs\\tf\\lib\\site-packages\\gensim\\models\\utils_any2vec.py\u001b[0m in \u001b[0;36m_load_word2vec_format\u001b[1;34m(cls, fname, fvocab, binary, encoding, unicode_errors, limit, datatype)\u001b[0m\n\u001b[0;32m    387\u001b[0m         \u001b[1;32melse\u001b[0m\u001b[1;33m:\u001b[0m\u001b[1;33m\u001b[0m\u001b[1;33m\u001b[0m\u001b[0m\n\u001b[0;32m    388\u001b[0m             \u001b[1;32mfor\u001b[0m \u001b[0mline_no\u001b[0m \u001b[1;32min\u001b[0m \u001b[0mrange\u001b[0m\u001b[1;33m(\u001b[0m\u001b[0mvocab_size\u001b[0m\u001b[1;33m)\u001b[0m\u001b[1;33m:\u001b[0m\u001b[1;33m\u001b[0m\u001b[1;33m\u001b[0m\u001b[0m\n\u001b[1;32m--> 389\u001b[1;33m                 \u001b[0mline\u001b[0m \u001b[1;33m=\u001b[0m \u001b[0mfin\u001b[0m\u001b[1;33m.\u001b[0m\u001b[0mreadline\u001b[0m\u001b[1;33m(\u001b[0m\u001b[1;33m)\u001b[0m\u001b[1;33m\u001b[0m\u001b[1;33m\u001b[0m\u001b[0m\n\u001b[0m\u001b[0;32m    390\u001b[0m                 \u001b[1;32mif\u001b[0m \u001b[0mline\u001b[0m \u001b[1;33m==\u001b[0m \u001b[1;34mb''\u001b[0m\u001b[1;33m:\u001b[0m\u001b[1;33m\u001b[0m\u001b[1;33m\u001b[0m\u001b[0m\n\u001b[0;32m    391\u001b[0m                     \u001b[1;32mraise\u001b[0m \u001b[0mEOFError\u001b[0m\u001b[1;33m(\u001b[0m\u001b[1;34m\"unexpected end of input; is count incorrect or file otherwise damaged?\"\u001b[0m\u001b[1;33m)\u001b[0m\u001b[1;33m\u001b[0m\u001b[1;33m\u001b[0m\u001b[0m\n",
      "\u001b[1;32m~\\anaconda3\\envs\\tf\\lib\\bz2.py\u001b[0m in \u001b[0;36mreadline\u001b[1;34m(self, size)\u001b[0m\n\u001b[0;32m    213\u001b[0m         \u001b[1;32mwith\u001b[0m \u001b[0mself\u001b[0m\u001b[1;33m.\u001b[0m\u001b[0m_lock\u001b[0m\u001b[1;33m:\u001b[0m\u001b[1;33m\u001b[0m\u001b[1;33m\u001b[0m\u001b[0m\n\u001b[0;32m    214\u001b[0m             \u001b[0mself\u001b[0m\u001b[1;33m.\u001b[0m\u001b[0m_check_can_read\u001b[0m\u001b[1;33m(\u001b[0m\u001b[1;33m)\u001b[0m\u001b[1;33m\u001b[0m\u001b[1;33m\u001b[0m\u001b[0m\n\u001b[1;32m--> 215\u001b[1;33m             \u001b[1;32mreturn\u001b[0m \u001b[0mself\u001b[0m\u001b[1;33m.\u001b[0m\u001b[0m_buffer\u001b[0m\u001b[1;33m.\u001b[0m\u001b[0mreadline\u001b[0m\u001b[1;33m(\u001b[0m\u001b[0msize\u001b[0m\u001b[1;33m)\u001b[0m\u001b[1;33m\u001b[0m\u001b[1;33m\u001b[0m\u001b[0m\n\u001b[0m\u001b[0;32m    216\u001b[0m \u001b[1;33m\u001b[0m\u001b[0m\n\u001b[0;32m    217\u001b[0m     \u001b[1;32mdef\u001b[0m \u001b[0mreadlines\u001b[0m\u001b[1;33m(\u001b[0m\u001b[0mself\u001b[0m\u001b[1;33m,\u001b[0m \u001b[0msize\u001b[0m\u001b[1;33m=\u001b[0m\u001b[1;33m-\u001b[0m\u001b[1;36m1\u001b[0m\u001b[1;33m)\u001b[0m\u001b[1;33m:\u001b[0m\u001b[1;33m\u001b[0m\u001b[1;33m\u001b[0m\u001b[0m\n",
      "\u001b[1;32m~\\anaconda3\\envs\\tf\\lib\\_compression.py\u001b[0m in \u001b[0;36mreadinto\u001b[1;34m(self, b)\u001b[0m\n\u001b[0;32m     66\u001b[0m     \u001b[1;32mdef\u001b[0m \u001b[0mreadinto\u001b[0m\u001b[1;33m(\u001b[0m\u001b[0mself\u001b[0m\u001b[1;33m,\u001b[0m \u001b[0mb\u001b[0m\u001b[1;33m)\u001b[0m\u001b[1;33m:\u001b[0m\u001b[1;33m\u001b[0m\u001b[1;33m\u001b[0m\u001b[0m\n\u001b[0;32m     67\u001b[0m         \u001b[1;32mwith\u001b[0m \u001b[0mmemoryview\u001b[0m\u001b[1;33m(\u001b[0m\u001b[0mb\u001b[0m\u001b[1;33m)\u001b[0m \u001b[1;32mas\u001b[0m \u001b[0mview\u001b[0m\u001b[1;33m,\u001b[0m \u001b[0mview\u001b[0m\u001b[1;33m.\u001b[0m\u001b[0mcast\u001b[0m\u001b[1;33m(\u001b[0m\u001b[1;34m\"B\"\u001b[0m\u001b[1;33m)\u001b[0m \u001b[1;32mas\u001b[0m \u001b[0mbyte_view\u001b[0m\u001b[1;33m:\u001b[0m\u001b[1;33m\u001b[0m\u001b[1;33m\u001b[0m\u001b[0m\n\u001b[1;32m---> 68\u001b[1;33m             \u001b[0mdata\u001b[0m \u001b[1;33m=\u001b[0m \u001b[0mself\u001b[0m\u001b[1;33m.\u001b[0m\u001b[0mread\u001b[0m\u001b[1;33m(\u001b[0m\u001b[0mlen\u001b[0m\u001b[1;33m(\u001b[0m\u001b[0mbyte_view\u001b[0m\u001b[1;33m)\u001b[0m\u001b[1;33m)\u001b[0m\u001b[1;33m\u001b[0m\u001b[1;33m\u001b[0m\u001b[0m\n\u001b[0m\u001b[0;32m     69\u001b[0m             \u001b[0mbyte_view\u001b[0m\u001b[1;33m[\u001b[0m\u001b[1;33m:\u001b[0m\u001b[0mlen\u001b[0m\u001b[1;33m(\u001b[0m\u001b[0mdata\u001b[0m\u001b[1;33m)\u001b[0m\u001b[1;33m]\u001b[0m \u001b[1;33m=\u001b[0m \u001b[0mdata\u001b[0m\u001b[1;33m\u001b[0m\u001b[1;33m\u001b[0m\u001b[0m\n\u001b[0;32m     70\u001b[0m         \u001b[1;32mreturn\u001b[0m \u001b[0mlen\u001b[0m\u001b[1;33m(\u001b[0m\u001b[0mdata\u001b[0m\u001b[1;33m)\u001b[0m\u001b[1;33m\u001b[0m\u001b[1;33m\u001b[0m\u001b[0m\n",
      "\u001b[1;32m~\\anaconda3\\envs\\tf\\lib\\_compression.py\u001b[0m in \u001b[0;36mread\u001b[1;34m(self, size)\u001b[0m\n\u001b[0;32m    101\u001b[0m                 \u001b[1;32melse\u001b[0m\u001b[1;33m:\u001b[0m\u001b[1;33m\u001b[0m\u001b[1;33m\u001b[0m\u001b[0m\n\u001b[0;32m    102\u001b[0m                     \u001b[0mrawblock\u001b[0m \u001b[1;33m=\u001b[0m \u001b[1;34mb\"\"\u001b[0m\u001b[1;33m\u001b[0m\u001b[1;33m\u001b[0m\u001b[0m\n\u001b[1;32m--> 103\u001b[1;33m                 \u001b[0mdata\u001b[0m \u001b[1;33m=\u001b[0m \u001b[0mself\u001b[0m\u001b[1;33m.\u001b[0m\u001b[0m_decompressor\u001b[0m\u001b[1;33m.\u001b[0m\u001b[0mdecompress\u001b[0m\u001b[1;33m(\u001b[0m\u001b[0mrawblock\u001b[0m\u001b[1;33m,\u001b[0m \u001b[0msize\u001b[0m\u001b[1;33m)\u001b[0m\u001b[1;33m\u001b[0m\u001b[1;33m\u001b[0m\u001b[0m\n\u001b[0m\u001b[0;32m    104\u001b[0m             \u001b[1;32mif\u001b[0m \u001b[0mdata\u001b[0m\u001b[1;33m:\u001b[0m\u001b[1;33m\u001b[0m\u001b[1;33m\u001b[0m\u001b[0m\n\u001b[0;32m    105\u001b[0m                 \u001b[1;32mbreak\u001b[0m\u001b[1;33m\u001b[0m\u001b[1;33m\u001b[0m\u001b[0m\n",
      "\u001b[1;31mKeyboardInterrupt\u001b[0m: "
     ]
    }
   ],
   "source": [
    "# load embeddings, takes a significant amount of time\n",
    "embedding_file = \"enwiki_20180420_win10_100d.txt.bz2\"\n",
    "embedding_size = 100\n",
    "word_embedder = gensim.models.KeyedVectors.load_word2vec_format(embedding_file, binary=False)"
   ]
  },
  {
   "cell_type": "code",
   "execution_count": 50,
   "metadata": {},
   "outputs": [],
   "source": [
    "# transform dataset, doesn't take as long but will eat a few gigs of ram\n",
    "dummy = np.zeros(embedding_size)\n",
    "X_embedded = []\n",
    "for video_comments in X:\n",
    "    X_embedded.append([])\n",
    "    for word in video_comments.split(\" \"):\n",
    "        try:\n",
    "            embedding = word_embedder.get_vector(word.lower())\n",
    "        except KeyError: # not in the embeddings\n",
    "            embedding = dummy\n",
    "        X_embedded[-1].append(embedding)"
   ]
  },
  {
   "cell_type": "code",
   "execution_count": 64,
   "metadata": {},
   "outputs": [
    {
     "name": "stdout",
     "output_type": "stream",
     "text": [
      "890 1478\n",
      "890 1478\n"
     ]
    },
    {
     "data": {
      "text/plain": [
       "array([-0.564 , -0.5716,  0.1391,  0.1087,  0.3961, -0.4121, -0.4644,\n",
       "       -0.3132, -0.1375,  0.2368, -0.2153, -0.4151, -0.1271,  0.5038,\n",
       "       -0.2162,  0.032 ,  0.5347, -0.4009, -0.3393, -0.3071, -0.2252,\n",
       "       -0.221 ,  0.1205,  0.2257, -0.1878,  0.1841,  0.4495, -0.2308,\n",
       "        0.0757,  0.0752,  0.5288,  0.4406,  0.2842,  0.0872,  0.1878,\n",
       "       -0.0744,  0.2577,  0.2439,  0.2827, -0.0337, -0.1579, -0.362 ,\n",
       "       -0.3085,  0.0963,  0.2978,  0.0941,  0.3881, -0.2976, -0.1492,\n",
       "        0.0589, -0.2725,  0.1134, -0.1209, -0.3495, -0.3261,  1.1247,\n",
       "        0.968 , -0.1227, -0.4351, -0.3146,  0.3193, -0.3559, -0.2407,\n",
       "       -0.6482, -0.3129, -0.7203,  0.0791,  0.2891,  0.146 , -0.2042,\n",
       "       -0.6314, -0.4798, -0.3662, -0.2042, -0.3436,  0.3492,  0.4094,\n",
       "       -0.0641,  0.0525,  0.0728, -0.4157,  0.4037, -0.5495, -0.053 ,\n",
       "        0.1594, -0.1299,  0.5141, -0.1742,  0.0404,  0.0076,  0.119 ,\n",
       "        0.3242, -0.7302,  0.7806, -0.5962, -0.3785, -0.2235, -0.3008,\n",
       "        0.2354,  0.7224], dtype=float32)"
      ]
     },
     "execution_count": 64,
     "metadata": {},
     "output_type": "execute_result"
    }
   ],
   "source": [
    "print(len(X_embedded), len(X_embedded[2]))\n",
    "print(len(X), len(X[2].split(\" \")))\n",
    "X_embedded[0][4000]"
   ]
  },
  {
   "cell_type": "markdown",
   "metadata": {},
   "source": [
    "having the same sequence length is necessary for batching, lets examine the number of words in the comment section of each video"
   ]
  },
  {
   "cell_type": "code",
   "execution_count": 126,
   "metadata": {},
   "outputs": [
    {
     "name": "stdout",
     "output_type": "stream",
     "text": [
      "3099.919943820225\n"
     ]
    },
    {
     "data": {
      "text/plain": [
       "(array([194., 302., 135.,  40.,  18.,  15.,   5.,   1.,   1.,   1.]),\n",
       " array([   78. ,  1787.9,  3497.8,  5207.7,  6917.6,  8627.5, 10337.4,\n",
       "        12047.3, 13757.2, 15467.1, 17177. ]),\n",
       " <a list of 10 Patch objects>)"
      ]
     },
     "execution_count": 126,
     "metadata": {},
     "output_type": "execute_result"
    },
    {
     "data": {
      "image/png": "[encoded data removed]",
      "text/plain": [
       "<Figure size 432x288 with 1 Axes>"
      ]
     },
     "metadata": {
      "needs_background": "light"
     },
     "output_type": "display_data"
    }
   ],
   "source": [
    "words_per_video = list(map(len, X_train))\n",
    "print(np.mean(words_per_video))\n",
    "plt.hist(words_per_video)"
   ]
  },
  {
   "cell_type": "markdown",
   "metadata": {},
   "source": [
    "Now we need to create our dataset, 3000 words is too much for an LSTM so I'll first try 400"
   ]
  },
  {
   "cell_type": "markdown",
   "metadata": {},
   "source": [
    "### Create Dataset"
   ]
  },
  {
   "cell_type": "markdown",
   "metadata": {},
   "source": [
    "Most of the dataset has already been created, we just need to cut off each sample to sample_length"
   ]
  },
  {
   "cell_type": "code",
   "execution_count": null,
   "metadata": {},
   "outputs": [],
   "source": [
    "# truncuate (and pad) a sample so that it has length of \"length\"\n",
    "def truncate_sample(words, length):\n",
    "    words = words[:length]\n",
    "    while len(words) < length:\n",
    "        words.append(dummy)\n",
    "    return words"
   ]
  },
  {
   "cell_type": "code",
   "execution_count": 139,
   "metadata": {},
   "outputs": [],
   "source": [
    "sample_length = 400\n",
    "X_training = list(map(lambda x: truncate_sample(x, sample_length), X_embedded))\n",
    "X_training = np.array(X_training) # tensorflow doesn't like non np data for some reason\n",
    "X_train, X_test, y_train, y_test = train_test_split(X_training, y, test_size = 0.2)"
   ]
  },
  {
   "cell_type": "markdown",
   "metadata": {},
   "source": [
    "Create a Bidirectional LSTM which should handle the longer sequences better"
   ]
  },
  {
   "cell_type": "code",
   "execution_count": 140,
   "metadata": {},
   "outputs": [],
   "source": [
    "model = tf.keras.Sequential()\n",
    "model.add(Bidirectional(LSTM(50, activation='tanh', dropout=0.2, recurrent_dropout=0.2, input_shape = (None, sample_length, embedding_size))))\n",
    "model.add(Dense(y_train.shape[1], activation='softmax'))\n",
    "model.compile(optimizer = \"adam\", loss = \"categorical_crossentropy\", metrics = ['CategoricalAccuracy'])"
   ]
  },
  {
   "cell_type": "code",
   "execution_count": 141,
   "metadata": {},
   "outputs": [
    {
     "name": "stdout",
     "output_type": "stream",
     "text": [
      "Epoch 1/50\n",
      "89/89 [==============================] - 71s 796ms/step - loss: 2.2914 - categorical_accuracy: 0.1503 - val_loss: 2.2423 - val_categorical_accuracy: 0.1854\n",
      "Epoch 2/50\n",
      "89/89 [==============================] - 65s 729ms/step - loss: 2.0746 - categorical_accuracy: 0.2767 - val_loss: 2.2259 - val_categorical_accuracy: 0.2191\n",
      "Epoch 3/50\n",
      "89/89 [==============================] - 63s 713ms/step - loss: 1.9293 - categorical_accuracy: 0.3441 - val_loss: 2.2007 - val_categorical_accuracy: 0.2640\n",
      "Epoch 4/50\n",
      "89/89 [==============================] - 68s 767ms/step - loss: 1.8161 - categorical_accuracy: 0.3876 - val_loss: 1.9195 - val_categorical_accuracy: 0.2921\n",
      "Epoch 5/50\n",
      "89/89 [==============================] - 69s 780ms/step - loss: 1.7039 - categorical_accuracy: 0.4326 - val_loss: 2.0620 - val_categorical_accuracy: 0.2584\n",
      "Epoch 6/50\n",
      "89/89 [==============================] - 62s 701ms/step - loss: 1.7053 - categorical_accuracy: 0.4326 - val_loss: 2.0288 - val_categorical_accuracy: 0.3371\n",
      "Epoch 7/50\n",
      "89/89 [==============================] - 62s 700ms/step - loss: 1.5644 - categorical_accuracy: 0.4663 - val_loss: 1.8188 - val_categorical_accuracy: 0.3876\n",
      "Epoch 8/50\n",
      "89/89 [==============================] - 64s 715ms/step - loss: 1.5685 - categorical_accuracy: 0.4621 - val_loss: 1.9018 - val_categorical_accuracy: 0.3090\n",
      "Epoch 9/50\n",
      "89/89 [==============================] - 65s 730ms/step - loss: 1.3845 - categorical_accuracy: 0.5435 - val_loss: 1.8958 - val_categorical_accuracy: 0.3371\n",
      "Epoch 10/50\n",
      "89/89 [==============================] - 63s 713ms/step - loss: 1.3305 - categorical_accuracy: 0.5744 - val_loss: 1.8664 - val_categorical_accuracy: 0.3820\n",
      "Epoch 11/50\n",
      "89/89 [==============================] - 65s 733ms/step - loss: 1.2206 - categorical_accuracy: 0.6194 - val_loss: 1.8294 - val_categorical_accuracy: 0.4045\n",
      "Epoch 12/50\n",
      "89/89 [==============================] - 66s 738ms/step - loss: 1.2743 - categorical_accuracy: 0.5646 - val_loss: 1.8525 - val_categorical_accuracy: 0.3820\n",
      "Epoch 13/50\n",
      "89/89 [==============================] - 69s 771ms/step - loss: 1.2822 - categorical_accuracy: 0.5941 - val_loss: 1.9726 - val_categorical_accuracy: 0.3483\n",
      "Epoch 14/50\n",
      "89/89 [==============================] - 66s 741ms/step - loss: 1.0953 - categorical_accuracy: 0.6573 - val_loss: 2.0530 - val_categorical_accuracy: 0.2978\n",
      "Epoch 15/50\n",
      "89/89 [==============================] - 69s 772ms/step - loss: 1.0806 - categorical_accuracy: 0.6545 - val_loss: 1.9301 - val_categorical_accuracy: 0.3652\n",
      "Epoch 16/50\n",
      "89/89 [==============================] - 69s 779ms/step - loss: 0.9610 - categorical_accuracy: 0.7093 - val_loss: 1.8850 - val_categorical_accuracy: 0.3989\n",
      "Epoch 17/50\n",
      "89/89 [==============================] - 63s 707ms/step - loss: 0.9499 - categorical_accuracy: 0.6980 - val_loss: 1.9595 - val_categorical_accuracy: 0.3820\n",
      "Epoch 18/50\n",
      "89/89 [==============================] - 67s 758ms/step - loss: 0.8696 - categorical_accuracy: 0.7261 - val_loss: 1.9354 - val_categorical_accuracy: 0.3652\n",
      "Epoch 19/50\n",
      "89/89 [==============================] - 70s 781ms/step - loss: 0.7436 - categorical_accuracy: 0.7851 - val_loss: 1.9450 - val_categorical_accuracy: 0.4101\n",
      "Epoch 20/50\n",
      "89/89 [==============================] - 66s 740ms/step - loss: 0.6884 - categorical_accuracy: 0.7865 - val_loss: 1.9705 - val_categorical_accuracy: 0.4213\n",
      "Epoch 21/50\n",
      "89/89 [==============================] - 63s 709ms/step - loss: 0.6715 - categorical_accuracy: 0.7978 - val_loss: 1.9022 - val_categorical_accuracy: 0.4157\n",
      "Epoch 22/50\n",
      "89/89 [==============================] - 59s 661ms/step - loss: 0.6076 - categorical_accuracy: 0.8202 - val_loss: 1.9758 - val_categorical_accuracy: 0.4719\n",
      "Epoch 23/50\n",
      "89/89 [==============================] - 61s 687ms/step - loss: 0.5281 - categorical_accuracy: 0.8624 - val_loss: 2.0709 - val_categorical_accuracy: 0.4213\n",
      "Epoch 24/50\n",
      "89/89 [==============================] - 63s 710ms/step - loss: 0.4836 - categorical_accuracy: 0.8610 - val_loss: 2.0626 - val_categorical_accuracy: 0.4270\n",
      "Epoch 25/50\n",
      "89/89 [==============================] - 65s 726ms/step - loss: 0.4609 - categorical_accuracy: 0.8820 - val_loss: 2.1510 - val_categorical_accuracy: 0.3820\n",
      "Epoch 26/50\n",
      "89/89 [==============================] - 56s 633ms/step - loss: 0.4544 - categorical_accuracy: 0.8820 - val_loss: 2.1117 - val_categorical_accuracy: 0.4101\n",
      "Epoch 27/50\n",
      "89/89 [==============================] - 59s 664ms/step - loss: 0.3994 - categorical_accuracy: 0.9003 - val_loss: 2.0941 - val_categorical_accuracy: 0.4157\n",
      "Epoch 28/50\n",
      "89/89 [==============================] - 70s 781ms/step - loss: 0.3216 - categorical_accuracy: 0.9312 - val_loss: 2.1665 - val_categorical_accuracy: 0.4326\n",
      "Epoch 29/50\n",
      "89/89 [==============================] - 71s 794ms/step - loss: 0.2979 - categorical_accuracy: 0.9228 - val_loss: 2.1891 - val_categorical_accuracy: 0.3989\n",
      "Epoch 30/50\n",
      "89/89 [==============================] - 72s 810ms/step - loss: 0.2856 - categorical_accuracy: 0.9326 - val_loss: 2.3645 - val_categorical_accuracy: 0.3764\n",
      "Epoch 31/50\n",
      "89/89 [==============================] - 67s 750ms/step - loss: 0.2632 - categorical_accuracy: 0.9382 - val_loss: 2.3559 - val_categorical_accuracy: 0.3876\n",
      "Epoch 32/50\n",
      "89/89 [==============================] - 68s 760ms/step - loss: 0.2230 - categorical_accuracy: 0.9565 - val_loss: 2.3131 - val_categorical_accuracy: 0.4101\n",
      "Epoch 33/50\n",
      "89/89 [==============================] - 64s 722ms/step - loss: 0.2162 - categorical_accuracy: 0.9480 - val_loss: 2.3890 - val_categorical_accuracy: 0.4157\n",
      "Epoch 34/50\n",
      "89/89 [==============================] - 66s 742ms/step - loss: 0.2012 - categorical_accuracy: 0.9593 - val_loss: 2.3442 - val_categorical_accuracy: 0.4382\n",
      "Epoch 35/50\n",
      "89/89 [==============================] - 66s 740ms/step - loss: 0.1749 - categorical_accuracy: 0.9677 - val_loss: 2.4725 - val_categorical_accuracy: 0.3876\n",
      "Epoch 36/50\n",
      "89/89 [==============================] - 67s 757ms/step - loss: 0.1830 - categorical_accuracy: 0.9677 - val_loss: 2.3425 - val_categorical_accuracy: 0.3933\n",
      "Epoch 37/50\n",
      "89/89 [==============================] - 67s 753ms/step - loss: 0.1439 - categorical_accuracy: 0.9761 - val_loss: 2.5053 - val_categorical_accuracy: 0.4045\n",
      "Epoch 38/50\n",
      "89/89 [==============================] - 65s 733ms/step - loss: 0.1347 - categorical_accuracy: 0.9831 - val_loss: 2.4690 - val_categorical_accuracy: 0.4438\n",
      "Epoch 39/50\n",
      "89/89 [==============================] - 69s 771ms/step - loss: 0.1322 - categorical_accuracy: 0.9775 - val_loss: 2.7331 - val_categorical_accuracy: 0.4045\n",
      "Epoch 40/50\n",
      "89/89 [==============================] - 76s 856ms/step - loss: 0.1696 - categorical_accuracy: 0.9607 - val_loss: 2.4794 - val_categorical_accuracy: 0.4382\n",
      "Epoch 41/50\n",
      "89/89 [==============================] - 77s 867ms/step - loss: 0.1249 - categorical_accuracy: 0.9761 - val_loss: 2.4487 - val_categorical_accuracy: 0.4101\n",
      "Epoch 42/50\n",
      "89/89 [==============================] - 79s 888ms/step - loss: 0.0994 - categorical_accuracy: 0.9846 - val_loss: 2.4736 - val_categorical_accuracy: 0.4382\n",
      "Epoch 43/50\n",
      "89/89 [==============================] - 77s 867ms/step - loss: 0.0698 - categorical_accuracy: 0.9930 - val_loss: 2.5840 - val_categorical_accuracy: 0.3989\n",
      "Epoch 44/50\n",
      "89/89 [==============================] - 81s 905ms/step - loss: 0.1051 - categorical_accuracy: 0.9789 - val_loss: 2.7305 - val_categorical_accuracy: 0.3764\n",
      "Epoch 45/50\n",
      "89/89 [==============================] - 79s 888ms/step - loss: 0.0873 - categorical_accuracy: 0.9902 - val_loss: 2.6161 - val_categorical_accuracy: 0.4045\n",
      "Epoch 46/50\n",
      "89/89 [==============================] - 76s 859ms/step - loss: 0.0781 - categorical_accuracy: 0.9860 - val_loss: 2.6770 - val_categorical_accuracy: 0.3933\n",
      "Epoch 47/50\n",
      "89/89 [==============================] - 78s 879ms/step - loss: 0.0623 - categorical_accuracy: 0.9944 - val_loss: 2.6884 - val_categorical_accuracy: 0.4101\n",
      "Epoch 48/50\n",
      "89/89 [==============================] - 78s 882ms/step - loss: 0.0514 - categorical_accuracy: 0.9958 - val_loss: 2.7604 - val_categorical_accuracy: 0.4213\n",
      "Epoch 49/50\n",
      "89/89 [==============================] - 79s 884ms/step - loss: 0.0457 - categorical_accuracy: 0.9958 - val_loss: 2.7411 - val_categorical_accuracy: 0.4213\n",
      "Epoch 50/50\n",
      "89/89 [==============================] - 80s 897ms/step - loss: 0.0688 - categorical_accuracy: 0.9888 - val_loss: 2.8663 - val_categorical_accuracy: 0.4045\n"
     ]
    }
   ],
   "source": [
    "# train model\n",
    "history = model.fit(X_train, y_train,\n",
    "     batch_size = 8, epochs = 50,\n",
    "     validation_data = (X_test, y_test))"
   ]
  },
  {
   "cell_type": "code",
   "execution_count": 144,
   "metadata": {},
   "outputs": [
    {
     "data": {
      "image/png": "[encoded data removed]",
      "text/plain": [
       "<Figure size 432x288 with 1 Axes>"
      ]
     },
     "metadata": {
      "needs_background": "light"
     },
     "output_type": "display_data"
    }
   ],
   "source": [
    "plot_training(history, 0, 1)"
   ]
  },
  {
   "cell_type": "markdown",
   "metadata": {},
   "source": [
    "### Archive of Dead Code"
   ]
  },
  {
   "cell_type": "code",
   "execution_count": null,
   "metadata": {},
   "outputs": [],
   "source": [
    "# this doesn't work because gensim is an old library and returns a keras layer, not a tf.keras layer, which ruins everything\n",
    "embedding_layer = word_embedder.get_keras_embedding(train_embeddings=True)\n",
    "print(type(embedding_layer))\n",
    "index2entity = word_embedder.index2entity\n",
    "model = keras.Sequential()\n",
    "model.add(embedding_layer)\n",
    "model.compile(optimizer = \"adam\", loss = \"categorical_crossentropy\", metrics = ['CategoricalAccuracy'])"
   ]
  },
  {
   "cell_type": "code",
   "execution_count": 12,
   "metadata": {},
   "outputs": [],
   "source": [
    "# these functions create a dataset for an LSTM that trains its own embeddings, which isn't our approach anymore\n",
    "# create a function that creates the LSTM dataset\n",
    "def lstm_dataset(X_train, X_test, sequence_length, max_words):\n",
    "    tokenizer = Tokenizer(num_words = max_words, oov_token='<OOV>')\n",
    "    tokenizer.fit_on_texts(X_train)\n",
    "    X_train = tokenize_text(X_train, tokenizer, sequence_length)\n",
    "    X_test = tokenize_text(X_test, tokenizer, sequence_length)\n",
    "    return X_train, X_test\n",
    "    \n",
    "# function that tokenizes and pads text\n",
    "def tokenize_text(text, tokenizer, sequence_length):\n",
    "    tokens = tokenizer.texts_to_sequences(text)\n",
    "    tokens = pad_sequences(tokens, maxlen=sequence_length, padding='post', truncating='post')\n",
    "    return tokens"
   ]
  }
 ],
 "metadata": {
  "kernelspec": {
   "display_name": "Python 3",
   "language": "python",
   "name": "python3"
  },
  "language_info": {
   "codemirror_mode": {
    "name": "ipython",
    "version": 3
   },
   "file_extension": ".py",
   "mimetype": "text/x-python",
   "name": "python",
   "nbconvert_exporter": "python",
   "pygments_lexer": "ipython3",
   "version": "3.7.7"
  }
 },
 "nbformat": 4,
 "nbformat_minor": 4
}
